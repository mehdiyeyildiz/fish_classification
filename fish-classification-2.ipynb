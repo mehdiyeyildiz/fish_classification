{
 "cells": [
  {
   "cell_type": "code",
   "execution_count": 1,
   "id": "679e85b9",
   "metadata": {
    "_cell_guid": "b1076dfc-b9ad-4769-8c92-a6c4dae69d19",
    "_uuid": "8f2839f25d086af736a60e9eeb907d3b93b6e0e5",
    "execution": {
     "iopub.execute_input": "2024-11-16T06:40:10.678715Z",
     "iopub.status.busy": "2024-11-16T06:40:10.678029Z",
     "iopub.status.idle": "2024-11-16T06:40:25.076648Z",
     "shell.execute_reply": "2024-11-16T06:40:25.075652Z"
    },
    "papermill": {
     "duration": 14.412976,
     "end_time": "2024-11-16T06:40:25.079269",
     "exception": false,
     "start_time": "2024-11-16T06:40:10.666293",
     "status": "completed"
    },
    "tags": []
   },
   "outputs": [],
   "source": [
    "import os\n",
    "import numpy as np\n",
    "import pandas as pd\n",
    "import matplotlib.pyplot as plt\n",
    "import datetime\n",
    "from sklearn.model_selection import train_test_split\n",
    "from tensorflow.keras.preprocessing.image import load_img, img_to_array\n",
    "from tensorflow.keras.preprocessing import image\n",
    "import tensorflow as tf\n",
    "from sklearn.preprocessing import OneHotEncoder\n",
    "\n",
    "from tensorflow.keras import layers, metrics\n",
    "from tensorflow.keras.models  import Sequential, load_model\n",
    "from tensorflow.keras.metrics import Accuracy, AUC\n",
    "from tensorflow.keras.optimizers import Adam\n",
    "from tensorflow.keras.regularizers import l2\n",
    "from tensorflow.keras.layers import Dense, Dropout, BatchNormalization, Input, Activation\n",
    "from tensorflow.keras.callbacks import ModelCheckpoint,EarlyStopping\n",
    "from tensorflow.keras.preprocessing.image import ImageDataGenerator\n",
    "from sklearn.metrics import precision_score, recall_score, f1_score"
   ]
  },
  {
   "cell_type": "markdown",
   "id": "7e3ea994",
   "metadata": {
    "papermill": {
     "duration": 0.009447,
     "end_time": "2024-11-16T06:40:25.100055",
     "exception": false,
     "start_time": "2024-11-16T06:40:25.090608",
     "status": "completed"
    },
    "tags": []
   },
   "source": [
    "Görüntü path'lerini ve label'larını dataframe'e çevirelim."
   ]
  },
  {
   "cell_type": "code",
   "execution_count": 2,
   "id": "a1bef063",
   "metadata": {
    "execution": {
     "iopub.execute_input": "2024-11-16T06:40:25.121276Z",
     "iopub.status.busy": "2024-11-16T06:40:25.120194Z",
     "iopub.status.idle": "2024-11-16T06:40:31.265101Z",
     "shell.execute_reply": "2024-11-16T06:40:31.264327Z"
    },
    "papermill": {
     "duration": 6.157966,
     "end_time": "2024-11-16T06:40:31.267622",
     "exception": false,
     "start_time": "2024-11-16T06:40:25.109656",
     "status": "completed"
    },
    "tags": []
   },
   "outputs": [],
   "source": [
    "label = []\n",
    "path = []\n",
    "fish_dir = '/kaggle/input/a-large-scale-fish-dataset/Fish_Dataset/Fish_Dataset/'\n",
    "for dir_name, _, filenames in os.walk(fish_dir):\n",
    "    for filename in filenames:\n",
    "        if os.path.splitext(filename)[-1]==\".png\":\n",
    "            if dir_name.split()[-1]!=\"GT\":\n",
    "                label.append(os.path.split(dir_name)[-1])\n",
    "                path.append(os.path.join(dir_name, filename))\n",
    "data =pd.DataFrame(columns=[\"path\",\"label\"])\n",
    "data[\"path\"]=path\n",
    "data[\"label\"]=label\n"
   ]
  },
  {
   "cell_type": "code",
   "execution_count": 3,
   "id": "96250699",
   "metadata": {
    "execution": {
     "iopub.execute_input": "2024-11-16T06:40:31.288331Z",
     "iopub.status.busy": "2024-11-16T06:40:31.288029Z",
     "iopub.status.idle": "2024-11-16T06:40:31.303171Z",
     "shell.execute_reply": "2024-11-16T06:40:31.302101Z"
    },
    "papermill": {
     "duration": 0.027615,
     "end_time": "2024-11-16T06:40:31.305231",
     "exception": false,
     "start_time": "2024-11-16T06:40:31.277616",
     "status": "completed"
    },
    "tags": []
   },
   "outputs": [
    {
     "data": {
      "text/html": [
       "<div>\n",
       "<style scoped>\n",
       "    .dataframe tbody tr th:only-of-type {\n",
       "        vertical-align: middle;\n",
       "    }\n",
       "\n",
       "    .dataframe tbody tr th {\n",
       "        vertical-align: top;\n",
       "    }\n",
       "\n",
       "    .dataframe thead th {\n",
       "        text-align: right;\n",
       "    }\n",
       "</style>\n",
       "<table border=\"1\" class=\"dataframe\">\n",
       "  <thead>\n",
       "    <tr style=\"text-align: right;\">\n",
       "      <th></th>\n",
       "      <th>path</th>\n",
       "      <th>label</th>\n",
       "    </tr>\n",
       "  </thead>\n",
       "  <tbody>\n",
       "    <tr>\n",
       "      <th>0</th>\n",
       "      <td>/kaggle/input/a-large-scale-fish-dataset/Fish_...</td>\n",
       "      <td>Hourse Mackerel</td>\n",
       "    </tr>\n",
       "    <tr>\n",
       "      <th>1</th>\n",
       "      <td>/kaggle/input/a-large-scale-fish-dataset/Fish_...</td>\n",
       "      <td>Hourse Mackerel</td>\n",
       "    </tr>\n",
       "    <tr>\n",
       "      <th>2</th>\n",
       "      <td>/kaggle/input/a-large-scale-fish-dataset/Fish_...</td>\n",
       "      <td>Hourse Mackerel</td>\n",
       "    </tr>\n",
       "    <tr>\n",
       "      <th>3</th>\n",
       "      <td>/kaggle/input/a-large-scale-fish-dataset/Fish_...</td>\n",
       "      <td>Hourse Mackerel</td>\n",
       "    </tr>\n",
       "    <tr>\n",
       "      <th>4</th>\n",
       "      <td>/kaggle/input/a-large-scale-fish-dataset/Fish_...</td>\n",
       "      <td>Hourse Mackerel</td>\n",
       "    </tr>\n",
       "  </tbody>\n",
       "</table>\n",
       "</div>"
      ],
      "text/plain": [
       "                                                path            label\n",
       "0  /kaggle/input/a-large-scale-fish-dataset/Fish_...  Hourse Mackerel\n",
       "1  /kaggle/input/a-large-scale-fish-dataset/Fish_...  Hourse Mackerel\n",
       "2  /kaggle/input/a-large-scale-fish-dataset/Fish_...  Hourse Mackerel\n",
       "3  /kaggle/input/a-large-scale-fish-dataset/Fish_...  Hourse Mackerel\n",
       "4  /kaggle/input/a-large-scale-fish-dataset/Fish_...  Hourse Mackerel"
      ]
     },
     "execution_count": 3,
     "metadata": {},
     "output_type": "execute_result"
    }
   ],
   "source": [
    "data.head()"
   ]
  },
  {
   "cell_type": "markdown",
   "id": "15fe7900",
   "metadata": {
    "papermill": {
     "duration": 0.009492,
     "end_time": "2024-11-16T06:40:31.324815",
     "exception": false,
     "start_time": "2024-11-16T06:40:31.315323",
     "status": "completed"
    },
    "tags": []
   },
   "source": [
    "Kaç adet sınıf olduğuna bakalım."
   ]
  },
  {
   "cell_type": "code",
   "execution_count": 4,
   "id": "0328850a",
   "metadata": {
    "execution": {
     "iopub.execute_input": "2024-11-16T06:40:31.345236Z",
     "iopub.status.busy": "2024-11-16T06:40:31.344950Z",
     "iopub.status.idle": "2024-11-16T06:40:31.354868Z",
     "shell.execute_reply": "2024-11-16T06:40:31.353881Z"
    },
    "papermill": {
     "duration": 0.022358,
     "end_time": "2024-11-16T06:40:31.356923",
     "exception": false,
     "start_time": "2024-11-16T06:40:31.334565",
     "status": "completed"
    },
    "tags": []
   },
   "outputs": [
    {
     "data": {
      "text/plain": [
       "9"
      ]
     },
     "execution_count": 4,
     "metadata": {},
     "output_type": "execute_result"
    }
   ],
   "source": [
    "data[\"label\"].nunique()"
   ]
  },
  {
   "cell_type": "markdown",
   "id": "e8a75b84",
   "metadata": {
    "papermill": {
     "duration": 0.009871,
     "end_time": "2024-11-16T06:40:31.376693",
     "exception": false,
     "start_time": "2024-11-16T06:40:31.366822",
     "status": "completed"
    },
    "tags": []
   },
   "source": [
    "Her bir sınıftaki gözlem sayısını inceleyelim. Normal dağılımlı bir veri olduğu görülüyor."
   ]
  },
  {
   "cell_type": "code",
   "execution_count": 5,
   "id": "feadf50d",
   "metadata": {
    "execution": {
     "iopub.execute_input": "2024-11-16T06:40:31.398179Z",
     "iopub.status.busy": "2024-11-16T06:40:31.397838Z",
     "iopub.status.idle": "2024-11-16T06:40:31.413628Z",
     "shell.execute_reply": "2024-11-16T06:40:31.412626Z"
    },
    "papermill": {
     "duration": 0.028756,
     "end_time": "2024-11-16T06:40:31.415670",
     "exception": false,
     "start_time": "2024-11-16T06:40:31.386914",
     "status": "completed"
    },
    "tags": []
   },
   "outputs": [
    {
     "data": {
      "text/plain": [
       "label\n",
       "Hourse Mackerel       1000\n",
       "Black Sea Sprat       1000\n",
       "Sea Bass              1000\n",
       "Red Mullet            1000\n",
       "Trout                 1000\n",
       "Striped Red Mullet    1000\n",
       "Shrimp                1000\n",
       "Gilt-Head Bream       1000\n",
       "Red Sea Bream         1000\n",
       "Name: count, dtype: int64"
      ]
     },
     "execution_count": 5,
     "metadata": {},
     "output_type": "execute_result"
    }
   ],
   "source": [
    "data[\"label\"].value_counts()"
   ]
  },
  {
   "cell_type": "markdown",
   "id": "9adfe194",
   "metadata": {
    "papermill": {
     "duration": 0.009682,
     "end_time": "2024-11-16T06:40:31.435073",
     "exception": false,
     "start_time": "2024-11-16T06:40:31.425391",
     "status": "completed"
    },
    "tags": []
   },
   "source": [
    "X_path ve y değişkenlerini ayıralım."
   ]
  },
  {
   "cell_type": "code",
   "execution_count": 6,
   "id": "89829580",
   "metadata": {
    "execution": {
     "iopub.execute_input": "2024-11-16T06:40:31.455875Z",
     "iopub.status.busy": "2024-11-16T06:40:31.455503Z",
     "iopub.status.idle": "2024-11-16T06:40:31.459775Z",
     "shell.execute_reply": "2024-11-16T06:40:31.458851Z"
    },
    "papermill": {
     "duration": 0.017152,
     "end_time": "2024-11-16T06:40:31.461881",
     "exception": false,
     "start_time": "2024-11-16T06:40:31.444729",
     "status": "completed"
    },
    "tags": []
   },
   "outputs": [],
   "source": [
    "X_path = data[\"path\"]\n",
    "y = data[\"label\"]"
   ]
  },
  {
   "cell_type": "markdown",
   "id": "f8e04887",
   "metadata": {
    "papermill": {
     "duration": 0.009717,
     "end_time": "2024-11-16T06:40:31.481325",
     "exception": false,
     "start_time": "2024-11-16T06:40:31.471608",
     "status": "completed"
    },
    "tags": []
   },
   "source": [
    "Pathlerdeki görüntüleri okutup array'a çevirelim ve X olarak atayalım. X'den bir gözlemi görelim."
   ]
  },
  {
   "cell_type": "code",
   "execution_count": 7,
   "id": "9052e218",
   "metadata": {
    "execution": {
     "iopub.execute_input": "2024-11-16T06:40:31.502761Z",
     "iopub.status.busy": "2024-11-16T06:40:31.502427Z",
     "iopub.status.idle": "2024-11-16T06:43:12.289556Z",
     "shell.execute_reply": "2024-11-16T06:43:12.288409Z"
    },
    "papermill": {
     "duration": 160.811182,
     "end_time": "2024-11-16T06:43:12.302501",
     "exception": false,
     "start_time": "2024-11-16T06:40:31.491319",
     "status": "completed"
    },
    "tags": []
   },
   "outputs": [
    {
     "name": "stdout",
     "output_type": "stream",
     "text": [
      "[array([[[0., 0., 0.],\n",
      "        [0., 0., 0.],\n",
      "        [0., 0., 0.],\n",
      "        ...,\n",
      "        [0., 0., 0.],\n",
      "        [0., 0., 0.],\n",
      "        [0., 0., 0.]],\n",
      "\n",
      "       [[0., 0., 0.],\n",
      "        [0., 0., 0.],\n",
      "        [0., 0., 0.],\n",
      "        ...,\n",
      "        [0., 0., 0.],\n",
      "        [0., 0., 0.],\n",
      "        [0., 0., 0.]],\n",
      "\n",
      "       [[0., 0., 0.],\n",
      "        [0., 0., 0.],\n",
      "        [0., 0., 0.],\n",
      "        ...,\n",
      "        [0., 0., 0.],\n",
      "        [0., 0., 0.],\n",
      "        [0., 0., 0.]],\n",
      "\n",
      "       ...,\n",
      "\n",
      "       [[0., 0., 0.],\n",
      "        [0., 0., 0.],\n",
      "        [0., 0., 0.],\n",
      "        ...,\n",
      "        [0., 0., 0.],\n",
      "        [0., 0., 0.],\n",
      "        [0., 0., 0.]],\n",
      "\n",
      "       [[0., 0., 0.],\n",
      "        [0., 0., 0.],\n",
      "        [0., 0., 0.],\n",
      "        ...,\n",
      "        [0., 0., 0.],\n",
      "        [0., 0., 0.],\n",
      "        [0., 0., 0.]],\n",
      "\n",
      "       [[0., 0., 0.],\n",
      "        [0., 0., 0.],\n",
      "        [0., 0., 0.],\n",
      "        ...,\n",
      "        [0., 0., 0.],\n",
      "        [0., 0., 0.],\n",
      "        [0., 0., 0.]]], dtype=float32)]\n"
     ]
    }
   ],
   "source": [
    "X =[]\n",
    "for path in X_path:\n",
    "    img = image.load_img(path, target_size=(224,224))\n",
    "    img_array = image.img_to_array(img)\n",
    "    X.append(img_array)\n",
    "\n",
    "print(X[0:1])"
   ]
  },
  {
   "cell_type": "markdown",
   "id": "c1a6eea4",
   "metadata": {
    "papermill": {
     "duration": 0.010086,
     "end_time": "2024-11-16T06:43:12.323025",
     "exception": false,
     "start_time": "2024-11-16T06:43:12.312939",
     "status": "completed"
    },
    "tags": []
   },
   "source": [
    "X ve y'leri işlemleri rahat yapabilmek adına numpy array'ine dönüştürelim."
   ]
  },
  {
   "cell_type": "code",
   "execution_count": 8,
   "id": "78c0398c",
   "metadata": {
    "execution": {
     "iopub.execute_input": "2024-11-16T06:43:12.344354Z",
     "iopub.status.busy": "2024-11-16T06:43:12.344044Z",
     "iopub.status.idle": "2024-11-16T06:43:13.951811Z",
     "shell.execute_reply": "2024-11-16T06:43:13.950922Z"
    },
    "papermill": {
     "duration": 1.621352,
     "end_time": "2024-11-16T06:43:13.954426",
     "exception": false,
     "start_time": "2024-11-16T06:43:12.333074",
     "status": "completed"
    },
    "tags": []
   },
   "outputs": [],
   "source": [
    "X = np.array(X)\n",
    "y = np.array(y)"
   ]
  },
  {
   "cell_type": "code",
   "execution_count": 9,
   "id": "56eb4362",
   "metadata": {
    "execution": {
     "iopub.execute_input": "2024-11-16T06:43:13.977126Z",
     "iopub.status.busy": "2024-11-16T06:43:13.976379Z",
     "iopub.status.idle": "2024-11-16T06:43:13.981782Z",
     "shell.execute_reply": "2024-11-16T06:43:13.980555Z"
    },
    "papermill": {
     "duration": 0.018907,
     "end_time": "2024-11-16T06:43:13.984038",
     "exception": false,
     "start_time": "2024-11-16T06:43:13.965131",
     "status": "completed"
    },
    "tags": []
   },
   "outputs": [
    {
     "name": "stdout",
     "output_type": "stream",
     "text": [
      "9000\n",
      "9000\n"
     ]
    }
   ],
   "source": [
    "print(len(X))\n",
    "print(len(y))"
   ]
  },
  {
   "cell_type": "code",
   "execution_count": 10,
   "id": "bbcdb493",
   "metadata": {
    "execution": {
     "iopub.execute_input": "2024-11-16T06:43:14.005111Z",
     "iopub.status.busy": "2024-11-16T06:43:14.004810Z",
     "iopub.status.idle": "2024-11-16T06:43:14.009743Z",
     "shell.execute_reply": "2024-11-16T06:43:14.008771Z"
    },
    "papermill": {
     "duration": 0.017914,
     "end_time": "2024-11-16T06:43:14.011811",
     "exception": false,
     "start_time": "2024-11-16T06:43:13.993897",
     "status": "completed"
    },
    "tags": []
   },
   "outputs": [
    {
     "name": "stdout",
     "output_type": "stream",
     "text": [
      "(9000, 224, 224, 3)\n",
      "(9000,)\n"
     ]
    }
   ],
   "source": [
    "print(X.shape)\n",
    "print(y.shape)"
   ]
  },
  {
   "cell_type": "code",
   "execution_count": 11,
   "id": "26bb8c17",
   "metadata": {
    "execution": {
     "iopub.execute_input": "2024-11-16T06:43:14.033421Z",
     "iopub.status.busy": "2024-11-16T06:43:14.033067Z",
     "iopub.status.idle": "2024-11-16T06:43:15.626989Z",
     "shell.execute_reply": "2024-11-16T06:43:15.626119Z"
    },
    "papermill": {
     "duration": 1.607468,
     "end_time": "2024-11-16T06:43:15.629628",
     "exception": false,
     "start_time": "2024-11-16T06:43:14.022160",
     "status": "completed"
    },
    "tags": []
   },
   "outputs": [],
   "source": [
    "# Görselleri normalize edelim\n",
    "X = X / 255"
   ]
  },
  {
   "cell_type": "code",
   "execution_count": 12,
   "id": "c096df95",
   "metadata": {
    "execution": {
     "iopub.execute_input": "2024-11-16T06:43:15.652240Z",
     "iopub.status.busy": "2024-11-16T06:43:15.651908Z",
     "iopub.status.idle": "2024-11-16T06:43:15.658235Z",
     "shell.execute_reply": "2024-11-16T06:43:15.657413Z"
    },
    "papermill": {
     "duration": 0.019872,
     "end_time": "2024-11-16T06:43:15.660373",
     "exception": false,
     "start_time": "2024-11-16T06:43:15.640501",
     "status": "completed"
    },
    "tags": []
   },
   "outputs": [
    {
     "data": {
      "text/plain": [
       "array(['Hourse Mackerel', 'Hourse Mackerel', 'Hourse Mackerel'],\n",
       "      dtype=object)"
      ]
     },
     "execution_count": 12,
     "metadata": {},
     "output_type": "execute_result"
    }
   ],
   "source": [
    "y[0:3]"
   ]
  },
  {
   "cell_type": "code",
   "execution_count": 13,
   "id": "a1dd320d",
   "metadata": {
    "execution": {
     "iopub.execute_input": "2024-11-16T06:43:15.682517Z",
     "iopub.status.busy": "2024-11-16T06:43:15.682170Z",
     "iopub.status.idle": "2024-11-16T06:43:15.686502Z",
     "shell.execute_reply": "2024-11-16T06:43:15.685544Z"
    },
    "papermill": {
     "duration": 0.017645,
     "end_time": "2024-11-16T06:43:15.688478",
     "exception": false,
     "start_time": "2024-11-16T06:43:15.670833",
     "status": "completed"
    },
    "tags": []
   },
   "outputs": [],
   "source": [
    "#Veri(y) 1D boyutunda olduğu için one-hot encoderda hata alıyoruz. 2D şekline dönüştürelim\n",
    "y = y.reshape(-1, 1)"
   ]
  },
  {
   "cell_type": "code",
   "execution_count": 14,
   "id": "533a78c2",
   "metadata": {
    "execution": {
     "iopub.execute_input": "2024-11-16T06:43:15.711081Z",
     "iopub.status.busy": "2024-11-16T06:43:15.710771Z",
     "iopub.status.idle": "2024-11-16T06:43:15.717019Z",
     "shell.execute_reply": "2024-11-16T06:43:15.716149Z"
    },
    "papermill": {
     "duration": 0.019898,
     "end_time": "2024-11-16T06:43:15.719121",
     "exception": false,
     "start_time": "2024-11-16T06:43:15.699223",
     "status": "completed"
    },
    "tags": []
   },
   "outputs": [
    {
     "data": {
      "text/plain": [
       "array([['Hourse Mackerel'],\n",
       "       ['Hourse Mackerel'],\n",
       "       ['Hourse Mackerel']], dtype=object)"
      ]
     },
     "execution_count": 14,
     "metadata": {},
     "output_type": "execute_result"
    }
   ],
   "source": [
    "y[0:3]"
   ]
  },
  {
   "cell_type": "code",
   "execution_count": 15,
   "id": "38095b39",
   "metadata": {
    "execution": {
     "iopub.execute_input": "2024-11-16T06:43:15.742262Z",
     "iopub.status.busy": "2024-11-16T06:43:15.741964Z",
     "iopub.status.idle": "2024-11-16T06:43:15.759013Z",
     "shell.execute_reply": "2024-11-16T06:43:15.757949Z"
    },
    "papermill": {
     "duration": 0.031683,
     "end_time": "2024-11-16T06:43:15.761309",
     "exception": false,
     "start_time": "2024-11-16T06:43:15.729626",
     "status": "completed"
    },
    "tags": []
   },
   "outputs": [
    {
     "name": "stderr",
     "output_type": "stream",
     "text": [
      "/opt/conda/lib/python3.10/site-packages/sklearn/preprocessing/_encoders.py:868: FutureWarning: `sparse` was renamed to `sparse_output` in version 1.2 and will be removed in 1.4. `sparse_output` is ignored unless you leave `sparse` to its default value.\n",
      "  warnings.warn(\n"
     ]
    },
    {
     "data": {
      "text/plain": [
       "array([[0., 0., 1., 0., 0., 0., 0., 0., 0.],\n",
       "       [0., 0., 1., 0., 0., 0., 0., 0., 0.],\n",
       "       [0., 0., 1., 0., 0., 0., 0., 0., 0.]])"
      ]
     },
     "execution_count": 15,
     "metadata": {},
     "output_type": "execute_result"
    }
   ],
   "source": [
    "#labelları one-hot encode edelim. ilk 3 değeri gözlemleyelim.\n",
    "encoder = OneHotEncoder(sparse=False)  # sparse=False ile dense matris oluşturur (daha anlaşılır görüntüleme için)\n",
    "\n",
    "y = encoder.fit_transform(y)\n",
    "y[0:3]"
   ]
  },
  {
   "cell_type": "code",
   "execution_count": 16,
   "id": "42033557",
   "metadata": {
    "execution": {
     "iopub.execute_input": "2024-11-16T06:43:15.784479Z",
     "iopub.status.busy": "2024-11-16T06:43:15.784127Z",
     "iopub.status.idle": "2024-11-16T06:43:15.789098Z",
     "shell.execute_reply": "2024-11-16T06:43:15.788000Z"
    },
    "papermill": {
     "duration": 0.019068,
     "end_time": "2024-11-16T06:43:15.791248",
     "exception": false,
     "start_time": "2024-11-16T06:43:15.772180",
     "status": "completed"
    },
    "tags": []
   },
   "outputs": [
    {
     "name": "stdout",
     "output_type": "stream",
     "text": [
      "(9000, 224, 224, 3)\n",
      "(9000, 9)\n"
     ]
    }
   ],
   "source": [
    "print(X.shape)\n",
    "print(y.shape)"
   ]
  },
  {
   "cell_type": "markdown",
   "id": "be2b72cb",
   "metadata": {
    "papermill": {
     "duration": 0.011068,
     "end_time": "2024-11-16T06:43:15.813633",
     "exception": false,
     "start_time": "2024-11-16T06:43:15.802565",
     "status": "completed"
    },
    "tags": []
   },
   "source": [
    "Train, valisayon ve test setleri oluşturalım. Verinin her bir kümeye homojen dağılımı olsun diye shuffle uygulayalım."
   ]
  },
  {
   "cell_type": "code",
   "execution_count": 17,
   "id": "ebada11f",
   "metadata": {
    "execution": {
     "iopub.execute_input": "2024-11-16T06:43:15.837203Z",
     "iopub.status.busy": "2024-11-16T06:43:15.836901Z",
     "iopub.status.idle": "2024-11-16T06:43:17.001050Z",
     "shell.execute_reply": "2024-11-16T06:43:17.000151Z"
    },
    "papermill": {
     "duration": 1.17895,
     "end_time": "2024-11-16T06:43:17.003709",
     "exception": false,
     "start_time": "2024-11-16T06:43:15.824759",
     "status": "completed"
    },
    "tags": []
   },
   "outputs": [],
   "source": [
    "X_train, X_test, y_train, y_test = train_test_split(X, y, test_size=0.2, shuffle=True, random_state=13)"
   ]
  },
  {
   "cell_type": "code",
   "execution_count": 18,
   "id": "73265487",
   "metadata": {
    "execution": {
     "iopub.execute_input": "2024-11-16T06:43:17.027759Z",
     "iopub.status.busy": "2024-11-16T06:43:17.027437Z",
     "iopub.status.idle": "2024-11-16T06:43:18.272488Z",
     "shell.execute_reply": "2024-11-16T06:43:18.271515Z"
    },
    "papermill": {
     "duration": 1.260246,
     "end_time": "2024-11-16T06:43:18.275564",
     "exception": false,
     "start_time": "2024-11-16T06:43:17.015318",
     "status": "completed"
    },
    "tags": []
   },
   "outputs": [],
   "source": [
    "X_train, X_val, y_train, y_val = train_test_split(X_train, y_train, test_size=0.2, random_state=13)"
   ]
  },
  {
   "cell_type": "code",
   "execution_count": 19,
   "id": "f4d77cff",
   "metadata": {
    "execution": {
     "iopub.execute_input": "2024-11-16T06:43:18.304559Z",
     "iopub.status.busy": "2024-11-16T06:43:18.303815Z",
     "iopub.status.idle": "2024-11-16T06:43:18.310093Z",
     "shell.execute_reply": "2024-11-16T06:43:18.309076Z"
    },
    "papermill": {
     "duration": 0.022067,
     "end_time": "2024-11-16T06:43:18.312523",
     "exception": false,
     "start_time": "2024-11-16T06:43:18.290456",
     "status": "completed"
    },
    "tags": []
   },
   "outputs": [
    {
     "name": "stdout",
     "output_type": "stream",
     "text": [
      "(5760, 224, 224, 3)\n",
      "(5760, 9)\n",
      "(1440, 224, 224, 3)\n",
      "(1440, 9)\n"
     ]
    }
   ],
   "source": [
    "print(X_train.shape)\n",
    "print(y_train.shape)\n",
    "print(X_val.shape)\n",
    "print(y_val.shape)"
   ]
  },
  {
   "cell_type": "markdown",
   "id": "6cabb239",
   "metadata": {
    "papermill": {
     "duration": 0.0112,
     "end_time": "2024-11-16T06:43:18.334802",
     "exception": false,
     "start_time": "2024-11-16T06:43:18.323602",
     "status": "completed"
    },
    "tags": []
   },
   "source": [
    "Train setine veri çoğaltma işlemleri uygulayalım. Daha önceden ölçeklendirme yaptığımız için burada rescale parametresini kullanmadık."
   ]
  },
  {
   "cell_type": "markdown",
   "id": "af0db458",
   "metadata": {
    "execution": {
     "iopub.execute_input": "2024-11-01T11:31:38.830067Z",
     "iopub.status.busy": "2024-11-01T11:31:38.829436Z",
     "iopub.status.idle": "2024-11-01T11:31:38.835460Z",
     "shell.execute_reply": "2024-11-01T11:31:38.834358Z",
     "shell.execute_reply.started": "2024-11-01T11:31:38.830011Z"
    },
    "papermill": {
     "duration": 0.010946,
     "end_time": "2024-11-16T06:43:18.356503",
     "exception": false,
     "start_time": "2024-11-16T06:43:18.345557",
     "status": "completed"
    },
    "tags": []
   },
   "source": [
    "train_datagen = ImageDataGenerator(\n",
    "    rotation_range=40,\n",
    "    width_shift_range=0.1,\n",
    "    height_shift_range=0.1,\n",
    "    shear_range=0.1,\n",
    "    zoom_range=0.1,\n",
    "    horizontal_flip=True,\n",
    "    vertical_flip=True\n",
    ")\n",
    "\n",
    "train_generator = train_datagen.flow(X_train, y_train, batch_size=128)"
   ]
  },
  {
   "cell_type": "markdown",
   "id": "3eb771a5",
   "metadata": {
    "papermill": {
     "duration": 0.011072,
     "end_time": "2024-11-16T06:43:18.378846",
     "exception": false,
     "start_time": "2024-11-16T06:43:18.367774",
     "status": "completed"
    },
    "tags": []
   },
   "source": [
    "Model mimarisini oluşturalım."
   ]
  },
  {
   "cell_type": "code",
   "execution_count": 20,
   "id": "7ad922e7",
   "metadata": {
    "execution": {
     "iopub.execute_input": "2024-11-16T06:43:18.403114Z",
     "iopub.status.busy": "2024-11-16T06:43:18.402073Z",
     "iopub.status.idle": "2024-11-16T06:43:19.144047Z",
     "shell.execute_reply": "2024-11-16T06:43:19.143279Z"
    },
    "papermill": {
     "duration": 0.756635,
     "end_time": "2024-11-16T06:43:19.146433",
     "exception": false,
     "start_time": "2024-11-16T06:43:18.389798",
     "status": "completed"
    },
    "tags": []
   },
   "outputs": [],
   "source": [
    "model = Sequential([\n",
    "    layers.Input(shape=(224,224,3)),\n",
    "    layers.Flatten(),\n",
    "    layers.Dense(256, activation=\"relu\", kernel_regularizer=l2(0.001)),\n",
    "    BatchNormalization(),\n",
    "    Dropout(0.2),\n",
    "    layers.Dense(256, activation=\"relu\", kernel_regularizer=l2(0.001)),\n",
    "    BatchNormalization(),\n",
    "    Dropout(0.2),\n",
    "    layers.Dense(256, activation=\"relu\", kernel_regularizer=l2(0.001)),\n",
    "    BatchNormalization(),\n",
    "    Dropout(0.2),\n",
    "    layers.Dense(256, activation=\"relu\", kernel_regularizer=l2(0.001)),\n",
    "    BatchNormalization(),\n",
    "    Dropout(0.2),\n",
    "    layers.Dense(256, activation=\"relu\", kernel_regularizer=l2(0.001)),\n",
    "    BatchNormalization(),\n",
    "    layers.Dense(9, activation=\"softmax\")]\n",
    ")\n",
    "\n",
    "model.compile(optimizer=Adam(learning_rate=0.0001),\n",
    "              loss='categorical_crossentropy',\n",
    "              metrics=[\"accuracy\", \"AUC\"])"
   ]
  },
  {
   "cell_type": "code",
   "execution_count": 21,
   "id": "430aa7e3",
   "metadata": {
    "execution": {
     "iopub.execute_input": "2024-11-16T06:43:19.170028Z",
     "iopub.status.busy": "2024-11-16T06:43:19.169745Z",
     "iopub.status.idle": "2024-11-16T06:43:19.174961Z",
     "shell.execute_reply": "2024-11-16T06:43:19.174087Z"
    },
    "papermill": {
     "duration": 0.019067,
     "end_time": "2024-11-16T06:43:19.176837",
     "exception": false,
     "start_time": "2024-11-16T06:43:19.157770",
     "status": "completed"
    },
    "tags": []
   },
   "outputs": [],
   "source": [
    "early_stopping = EarlyStopping(monitor='val_loss',\n",
    "                               patience=10,\n",
    "                               verbose=1,\n",
    "                               restore_best_weights=True, \n",
    "                               mode=\"min\")\n",
    "\n",
    "model_checkpoint = ModelCheckpoint(filepath='fish_model2.keras',\n",
    "                             monitor='val_loss',\n",
    "                             save_best_only=True,\n",
    "                             save_weights_only=False,\n",
    "                             verbose=1)"
   ]
  },
  {
   "cell_type": "code",
   "execution_count": 22,
   "id": "d28fccdb",
   "metadata": {
    "execution": {
     "iopub.execute_input": "2024-11-16T06:43:19.200037Z",
     "iopub.status.busy": "2024-11-16T06:43:19.199761Z",
     "iopub.status.idle": "2024-11-16T06:45:25.638925Z",
     "shell.execute_reply": "2024-11-16T06:45:25.637356Z"
    },
    "papermill": {
     "duration": 126.453816,
     "end_time": "2024-11-16T06:45:25.641475",
     "exception": false,
     "start_time": "2024-11-16T06:43:19.187659",
     "status": "completed"
    },
    "tags": []
   },
   "outputs": [
    {
     "name": "stdout",
     "output_type": "stream",
     "text": [
      "Epoch 1/100\n"
     ]
    },
    {
     "name": "stderr",
     "output_type": "stream",
     "text": [
      "WARNING: All log messages before absl::InitializeLog() is called are written to STDERR\n",
      "I0000 00:00:1731739407.630032      68 service.cc:145] XLA service 0x7fadbc009150 initialized for platform CUDA (this does not guarantee that XLA will be used). Devices:\n",
      "I0000 00:00:1731739407.630128      68 service.cc:153]   StreamExecutor device (0): Tesla T4, Compute Capability 7.5\n",
      "I0000 00:00:1731739407.630136      68 service.cc:153]   StreamExecutor device (1): Tesla T4, Compute Capability 7.5\n"
     ]
    },
    {
     "name": "stdout",
     "output_type": "stream",
     "text": [
      "\u001b[1m 3/45\u001b[0m \u001b[32m━\u001b[0m\u001b[37m━━━━━━━━━━━━━━━━━━━\u001b[0m \u001b[1m1s\u001b[0m 46ms/step - AUC: 0.5249 - accuracy: 0.1259 - loss: 4.3538 "
     ]
    },
    {
     "name": "stderr",
     "output_type": "stream",
     "text": [
      "I0000 00:00:1731739417.086058      68 device_compiler.h:188] Compiled cluster using XLA!  This line is logged at most once for the lifetime of the process.\n"
     ]
    },
    {
     "name": "stdout",
     "output_type": "stream",
     "text": [
      "\u001b[1m45/45\u001b[0m \u001b[32m━━━━━━━━━━━━━━━━━━━━\u001b[0m\u001b[37m\u001b[0m \u001b[1m0s\u001b[0m 42ms/step - AUC: 0.6209 - accuracy: 0.2053 - loss: 3.9721\n",
      "Epoch 1: val_loss improved from inf to 4.83906, saving model to fish_model2.keras\n",
      "\u001b[1m45/45\u001b[0m \u001b[32m━━━━━━━━━━━━━━━━━━━━\u001b[0m\u001b[37m\u001b[0m \u001b[1m20s\u001b[0m 140ms/step - AUC: 0.6223 - accuracy: 0.2065 - loss: 3.9666 - val_AUC: 0.5861 - val_accuracy: 0.1222 - val_loss: 4.8391\n",
      "Epoch 2/100\n",
      "\u001b[1m45/45\u001b[0m \u001b[32m━━━━━━━━━━━━━━━━━━━━\u001b[0m\u001b[37m\u001b[0m \u001b[1m0s\u001b[0m 42ms/step - AUC: 0.7993 - accuracy: 0.4025 - loss: 3.2691\n",
      "Epoch 2: val_loss improved from 4.83906 to 3.69689, saving model to fish_model2.keras\n",
      "\u001b[1m45/45\u001b[0m \u001b[32m━━━━━━━━━━━━━━━━━━━━\u001b[0m\u001b[37m\u001b[0m \u001b[1m5s\u001b[0m 119ms/step - AUC: 0.7997 - accuracy: 0.4029 - loss: 3.2675 - val_AUC: 0.6937 - val_accuracy: 0.2486 - val_loss: 3.6969\n",
      "Epoch 3/100\n",
      "\u001b[1m45/45\u001b[0m \u001b[32m━━━━━━━━━━━━━━━━━━━━\u001b[0m\u001b[37m\u001b[0m \u001b[1m0s\u001b[0m 48ms/step - AUC: 0.8590 - accuracy: 0.4896 - loss: 2.9718\n",
      "Epoch 3: val_loss improved from 3.69689 to 3.35230, saving model to fish_model2.keras\n",
      "\u001b[1m45/45\u001b[0m \u001b[32m━━━━━━━━━━━━━━━━━━━━\u001b[0m\u001b[37m\u001b[0m \u001b[1m4s\u001b[0m 93ms/step - AUC: 0.8593 - accuracy: 0.4901 - loss: 2.9702 - val_AUC: 0.7644 - val_accuracy: 0.3250 - val_loss: 3.3523\n",
      "Epoch 4/100\n",
      "\u001b[1m44/45\u001b[0m \u001b[32m━━━━━━━━━━━━━━━━━━━\u001b[0m\u001b[37m━\u001b[0m \u001b[1m0s\u001b[0m 43ms/step - AUC: 0.9012 - accuracy: 0.5724 - loss: 2.7238\n",
      "Epoch 4: val_loss improved from 3.35230 to 2.70169, saving model to fish_model2.keras\n",
      "\u001b[1m45/45\u001b[0m \u001b[32m━━━━━━━━━━━━━━━━━━━━\u001b[0m\u001b[37m\u001b[0m \u001b[1m4s\u001b[0m 89ms/step - AUC: 0.9015 - accuracy: 0.5731 - loss: 2.7221 - val_AUC: 0.9137 - val_accuracy: 0.5889 - val_loss: 2.7017\n",
      "Epoch 5/100\n",
      "\u001b[1m45/45\u001b[0m \u001b[32m━━━━━━━━━━━━━━━━━━━━\u001b[0m\u001b[37m\u001b[0m \u001b[1m0s\u001b[0m 44ms/step - AUC: 0.9307 - accuracy: 0.6416 - loss: 2.5157\n",
      "Epoch 5: val_loss improved from 2.70169 to 2.69815, saving model to fish_model2.keras\n",
      "\u001b[1m45/45\u001b[0m \u001b[32m━━━━━━━━━━━━━━━━━━━━\u001b[0m\u001b[37m\u001b[0m \u001b[1m5s\u001b[0m 101ms/step - AUC: 0.9307 - accuracy: 0.6417 - loss: 2.5154 - val_AUC: 0.9025 - val_accuracy: 0.5632 - val_loss: 2.6982\n",
      "Epoch 6/100\n",
      "\u001b[1m44/45\u001b[0m \u001b[32m━━━━━━━━━━━━━━━━━━━\u001b[0m\u001b[37m━\u001b[0m \u001b[1m0s\u001b[0m 44ms/step - AUC: 0.9474 - accuracy: 0.6914 - loss: 2.3705\n",
      "Epoch 6: val_loss improved from 2.69815 to 2.50392, saving model to fish_model2.keras\n",
      "\u001b[1m45/45\u001b[0m \u001b[32m━━━━━━━━━━━━━━━━━━━━\u001b[0m\u001b[37m\u001b[0m \u001b[1m5s\u001b[0m 118ms/step - AUC: 0.9476 - accuracy: 0.6918 - loss: 2.3688 - val_AUC: 0.9298 - val_accuracy: 0.6618 - val_loss: 2.5039\n",
      "Epoch 7/100\n",
      "\u001b[1m44/45\u001b[0m \u001b[32m━━━━━━━━━━━━━━━━━━━\u001b[0m\u001b[37m━\u001b[0m \u001b[1m0s\u001b[0m 43ms/step - AUC: 0.9625 - accuracy: 0.7386 - loss: 2.2210\n",
      "Epoch 7: val_loss improved from 2.50392 to 2.42360, saving model to fish_model2.keras\n",
      "\u001b[1m45/45\u001b[0m \u001b[32m━━━━━━━━━━━━━━━━━━━━\u001b[0m\u001b[37m\u001b[0m \u001b[1m4s\u001b[0m 88ms/step - AUC: 0.9626 - accuracy: 0.7386 - loss: 2.2203 - val_AUC: 0.9375 - val_accuracy: 0.6736 - val_loss: 2.4236\n",
      "Epoch 8/100\n",
      "\u001b[1m45/45\u001b[0m \u001b[32m━━━━━━━━━━━━━━━━━━━━\u001b[0m\u001b[37m\u001b[0m \u001b[1m0s\u001b[0m 43ms/step - AUC: 0.9719 - accuracy: 0.7811 - loss: 2.0960\n",
      "Epoch 8: val_loss did not improve from 2.42360\n",
      "\u001b[1m45/45\u001b[0m \u001b[32m━━━━━━━━━━━━━━━━━━━━\u001b[0m\u001b[37m\u001b[0m \u001b[1m3s\u001b[0m 54ms/step - AUC: 0.9720 - accuracy: 0.7811 - loss: 2.0957 - val_AUC: 0.9095 - val_accuracy: 0.5215 - val_loss: 2.6844\n",
      "Epoch 9/100\n",
      "\u001b[1m44/45\u001b[0m \u001b[32m━━━━━━━━━━━━━━━━━━━\u001b[0m\u001b[37m━\u001b[0m \u001b[1m0s\u001b[0m 42ms/step - AUC: 0.9807 - accuracy: 0.8127 - loss: 1.9770\n",
      "Epoch 9: val_loss improved from 2.42360 to 2.07533, saving model to fish_model2.keras\n",
      "\u001b[1m45/45\u001b[0m \u001b[32m━━━━━━━━━━━━━━━━━━━━\u001b[0m\u001b[37m\u001b[0m \u001b[1m4s\u001b[0m 87ms/step - AUC: 0.9807 - accuracy: 0.8127 - loss: 1.9771 - val_AUC: 0.9702 - val_accuracy: 0.7708 - val_loss: 2.0753\n",
      "Epoch 10/100\n",
      "\u001b[1m45/45\u001b[0m \u001b[32m━━━━━━━━━━━━━━━━━━━━\u001b[0m\u001b[37m\u001b[0m \u001b[1m0s\u001b[0m 43ms/step - AUC: 0.9853 - accuracy: 0.8498 - loss: 1.8780\n",
      "Epoch 10: val_loss did not improve from 2.07533\n",
      "\u001b[1m45/45\u001b[0m \u001b[32m━━━━━━━━━━━━━━━━━━━━\u001b[0m\u001b[37m\u001b[0m \u001b[1m3s\u001b[0m 54ms/step - AUC: 0.9853 - accuracy: 0.8500 - loss: 1.8775 - val_AUC: 0.9597 - val_accuracy: 0.7174 - val_loss: 2.1964\n",
      "Epoch 11/100\n",
      "\u001b[1m45/45\u001b[0m \u001b[32m━━━━━━━━━━━━━━━━━━━━\u001b[0m\u001b[37m\u001b[0m \u001b[1m0s\u001b[0m 44ms/step - AUC: 0.9887 - accuracy: 0.8575 - loss: 1.8181\n",
      "Epoch 11: val_loss improved from 2.07533 to 1.98423, saving model to fish_model2.keras\n",
      "\u001b[1m45/45\u001b[0m \u001b[32m━━━━━━━━━━━━━━━━━━━━\u001b[0m\u001b[37m\u001b[0m \u001b[1m4s\u001b[0m 95ms/step - AUC: 0.9887 - accuracy: 0.8576 - loss: 1.8179 - val_AUC: 0.9752 - val_accuracy: 0.8028 - val_loss: 1.9842\n",
      "Epoch 12/100\n",
      "\u001b[1m45/45\u001b[0m \u001b[32m━━━━━━━━━━━━━━━━━━━━\u001b[0m\u001b[37m\u001b[0m \u001b[1m0s\u001b[0m 44ms/step - AUC: 0.9923 - accuracy: 0.8829 - loss: 1.7397\n",
      "Epoch 12: val_loss did not improve from 1.98423\n",
      "\u001b[1m45/45\u001b[0m \u001b[32m━━━━━━━━━━━━━━━━━━━━\u001b[0m\u001b[37m\u001b[0m \u001b[1m3s\u001b[0m 55ms/step - AUC: 0.9923 - accuracy: 0.8829 - loss: 1.7396 - val_AUC: 0.9668 - val_accuracy: 0.7590 - val_loss: 2.0877\n",
      "Epoch 13/100\n",
      "\u001b[1m45/45\u001b[0m \u001b[32m━━━━━━━━━━━━━━━━━━━━\u001b[0m\u001b[37m\u001b[0m \u001b[1m0s\u001b[0m 41ms/step - AUC: 0.9944 - accuracy: 0.9056 - loss: 1.6695\n",
      "Epoch 13: val_loss did not improve from 1.98423\n",
      "\u001b[1m45/45\u001b[0m \u001b[32m━━━━━━━━━━━━━━━━━━━━\u001b[0m\u001b[37m\u001b[0m \u001b[1m2s\u001b[0m 52ms/step - AUC: 0.9943 - accuracy: 0.9055 - loss: 1.6696 - val_AUC: 0.9633 - val_accuracy: 0.7486 - val_loss: 2.1086\n",
      "Epoch 14/100\n",
      "\u001b[1m45/45\u001b[0m \u001b[32m━━━━━━━━━━━━━━━━━━━━\u001b[0m\u001b[37m\u001b[0m \u001b[1m0s\u001b[0m 41ms/step - AUC: 0.9952 - accuracy: 0.9120 - loss: 1.6371\n",
      "Epoch 14: val_loss improved from 1.98423 to 1.92943, saving model to fish_model2.keras\n",
      "\u001b[1m45/45\u001b[0m \u001b[32m━━━━━━━━━━━━━━━━━━━━\u001b[0m\u001b[37m\u001b[0m \u001b[1m4s\u001b[0m 87ms/step - AUC: 0.9952 - accuracy: 0.9121 - loss: 1.6369 - val_AUC: 0.9780 - val_accuracy: 0.7972 - val_loss: 1.9294\n",
      "Epoch 15/100\n",
      "\u001b[1m45/45\u001b[0m \u001b[32m━━━━━━━━━━━━━━━━━━━━\u001b[0m\u001b[37m\u001b[0m \u001b[1m0s\u001b[0m 44ms/step - AUC: 0.9954 - accuracy: 0.9181 - loss: 1.6003\n",
      "Epoch 15: val_loss did not improve from 1.92943\n",
      "\u001b[1m45/45\u001b[0m \u001b[32m━━━━━━━━━━━━━━━━━━━━\u001b[0m\u001b[37m\u001b[0m \u001b[1m3s\u001b[0m 55ms/step - AUC: 0.9954 - accuracy: 0.9179 - loss: 1.6006 - val_AUC: 0.9648 - val_accuracy: 0.7535 - val_loss: 2.0726\n",
      "Epoch 16/100\n",
      "\u001b[1m45/45\u001b[0m \u001b[32m━━━━━━━━━━━━━━━━━━━━\u001b[0m\u001b[37m\u001b[0m \u001b[1m0s\u001b[0m 41ms/step - AUC: 0.9964 - accuracy: 0.9217 - loss: 1.5793\n",
      "Epoch 16: val_loss did not improve from 1.92943\n",
      "\u001b[1m45/45\u001b[0m \u001b[32m━━━━━━━━━━━━━━━━━━━━\u001b[0m\u001b[37m\u001b[0m \u001b[1m2s\u001b[0m 52ms/step - AUC: 0.9964 - accuracy: 0.9217 - loss: 1.5792 - val_AUC: 0.9706 - val_accuracy: 0.7937 - val_loss: 1.9728\n",
      "Epoch 17/100\n",
      "\u001b[1m45/45\u001b[0m \u001b[32m━━━━━━━━━━━━━━━━━━━━\u001b[0m\u001b[37m\u001b[0m \u001b[1m0s\u001b[0m 41ms/step - AUC: 0.9977 - accuracy: 0.9413 - loss: 1.5196\n",
      "Epoch 17: val_loss improved from 1.92943 to 1.72074, saving model to fish_model2.keras\n",
      "\u001b[1m45/45\u001b[0m \u001b[32m━━━━━━━━━━━━━━━━━━━━\u001b[0m\u001b[37m\u001b[0m \u001b[1m4s\u001b[0m 87ms/step - AUC: 0.9977 - accuracy: 0.9412 - loss: 1.5197 - val_AUC: 0.9890 - val_accuracy: 0.8618 - val_loss: 1.7207\n",
      "Epoch 18/100\n",
      "\u001b[1m45/45\u001b[0m \u001b[32m━━━━━━━━━━━━━━━━━━━━\u001b[0m\u001b[37m\u001b[0m \u001b[1m0s\u001b[0m 62ms/step - AUC: 0.9973 - accuracy: 0.9421 - loss: 1.4995\n",
      "Epoch 18: val_loss improved from 1.72074 to 1.71825, saving model to fish_model2.keras\n",
      "\u001b[1m45/45\u001b[0m \u001b[32m━━━━━━━━━━━━━━━━━━━━\u001b[0m\u001b[37m\u001b[0m \u001b[1m5s\u001b[0m 106ms/step - AUC: 0.9973 - accuracy: 0.9421 - loss: 1.4996 - val_AUC: 0.9883 - val_accuracy: 0.8569 - val_loss: 1.7182\n",
      "Epoch 19/100\n",
      "\u001b[1m45/45\u001b[0m \u001b[32m━━━━━━━━━━━━━━━━━━━━\u001b[0m\u001b[37m\u001b[0m \u001b[1m0s\u001b[0m 40ms/step - AUC: 0.9979 - accuracy: 0.9419 - loss: 1.4822\n",
      "Epoch 19: val_loss did not improve from 1.71825\n",
      "\u001b[1m45/45\u001b[0m \u001b[32m━━━━━━━━━━━━━━━━━━━━\u001b[0m\u001b[37m\u001b[0m \u001b[1m2s\u001b[0m 51ms/step - AUC: 0.9979 - accuracy: 0.9420 - loss: 1.4821 - val_AUC: 0.9868 - val_accuracy: 0.8444 - val_loss: 1.7285\n",
      "Epoch 20/100\n",
      "\u001b[1m45/45\u001b[0m \u001b[32m━━━━━━━━━━━━━━━━━━━━\u001b[0m\u001b[37m\u001b[0m \u001b[1m0s\u001b[0m 58ms/step - AUC: 0.9978 - accuracy: 0.9479 - loss: 1.4566\n",
      "Epoch 20: val_loss improved from 1.71825 to 1.64878, saving model to fish_model2.keras\n",
      "\u001b[1m45/45\u001b[0m \u001b[32m━━━━━━━━━━━━━━━━━━━━\u001b[0m\u001b[37m\u001b[0m \u001b[1m5s\u001b[0m 104ms/step - AUC: 0.9978 - accuracy: 0.9478 - loss: 1.4566 - val_AUC: 0.9894 - val_accuracy: 0.8861 - val_loss: 1.6488\n",
      "Epoch 21/100\n",
      "\u001b[1m45/45\u001b[0m \u001b[32m━━━━━━━━━━━━━━━━━━━━\u001b[0m\u001b[37m\u001b[0m \u001b[1m0s\u001b[0m 44ms/step - AUC: 0.9986 - accuracy: 0.9533 - loss: 1.4244\n",
      "Epoch 21: val_loss did not improve from 1.64878\n",
      "\u001b[1m45/45\u001b[0m \u001b[32m━━━━━━━━━━━━━━━━━━━━\u001b[0m\u001b[37m\u001b[0m \u001b[1m3s\u001b[0m 55ms/step - AUC: 0.9986 - accuracy: 0.9534 - loss: 1.4243 - val_AUC: 0.9793 - val_accuracy: 0.8076 - val_loss: 1.8201\n",
      "Epoch 22/100\n",
      "\u001b[1m45/45\u001b[0m \u001b[32m━━━━━━━━━━━━━━━━━━━━\u001b[0m\u001b[37m\u001b[0m \u001b[1m0s\u001b[0m 41ms/step - AUC: 0.9989 - accuracy: 0.9630 - loss: 1.3894\n",
      "Epoch 22: val_loss improved from 1.64878 to 1.58990, saving model to fish_model2.keras\n",
      "\u001b[1m45/45\u001b[0m \u001b[32m━━━━━━━━━━━━━━━━━━━━\u001b[0m\u001b[37m\u001b[0m \u001b[1m4s\u001b[0m 85ms/step - AUC: 0.9989 - accuracy: 0.9630 - loss: 1.3893 - val_AUC: 0.9913 - val_accuracy: 0.8868 - val_loss: 1.5899\n",
      "Epoch 23/100\n",
      "\u001b[1m45/45\u001b[0m \u001b[32m━━━━━━━━━━━━━━━━━━━━\u001b[0m\u001b[37m\u001b[0m \u001b[1m0s\u001b[0m 43ms/step - AUC: 0.9989 - accuracy: 0.9585 - loss: 1.3819\n",
      "Epoch 23: val_loss did not improve from 1.58990\n",
      "\u001b[1m45/45\u001b[0m \u001b[32m━━━━━━━━━━━━━━━━━━━━\u001b[0m\u001b[37m\u001b[0m \u001b[1m3s\u001b[0m 54ms/step - AUC: 0.9989 - accuracy: 0.9584 - loss: 1.3819 - val_AUC: 0.9881 - val_accuracy: 0.8562 - val_loss: 1.6458\n",
      "Epoch 24/100\n",
      "\u001b[1m44/45\u001b[0m \u001b[32m━━━━━━━━━━━━━━━━━━━\u001b[0m\u001b[37m━\u001b[0m \u001b[1m0s\u001b[0m 39ms/step - AUC: 0.9992 - accuracy: 0.9661 - loss: 1.3526\n",
      "Epoch 24: val_loss did not improve from 1.58990\n",
      "\u001b[1m45/45\u001b[0m \u001b[32m━━━━━━━━━━━━━━━━━━━━\u001b[0m\u001b[37m\u001b[0m \u001b[1m2s\u001b[0m 50ms/step - AUC: 0.9991 - accuracy: 0.9660 - loss: 1.3528 - val_AUC: 0.9550 - val_accuracy: 0.6903 - val_loss: 2.0980\n",
      "Epoch 25/100\n",
      "\u001b[1m44/45\u001b[0m \u001b[32m━━━━━━━━━━━━━━━━━━━\u001b[0m\u001b[37m━\u001b[0m \u001b[1m0s\u001b[0m 41ms/step - AUC: 0.9987 - accuracy: 0.9610 - loss: 1.3527\n",
      "Epoch 25: val_loss did not improve from 1.58990\n",
      "\u001b[1m45/45\u001b[0m \u001b[32m━━━━━━━━━━━━━━━━━━━━\u001b[0m\u001b[37m\u001b[0m \u001b[1m2s\u001b[0m 52ms/step - AUC: 0.9987 - accuracy: 0.9610 - loss: 1.3528 - val_AUC: 0.9670 - val_accuracy: 0.7667 - val_loss: 1.9351\n",
      "Epoch 26/100\n",
      "\u001b[1m45/45\u001b[0m \u001b[32m━━━━━━━━━━━━━━━━━━━━\u001b[0m\u001b[37m\u001b[0m \u001b[1m0s\u001b[0m 41ms/step - AUC: 0.9985 - accuracy: 0.9666 - loss: 1.3404\n",
      "Epoch 26: val_loss did not improve from 1.58990\n",
      "\u001b[1m45/45\u001b[0m \u001b[32m━━━━━━━━━━━━━━━━━━━━\u001b[0m\u001b[37m\u001b[0m \u001b[1m2s\u001b[0m 52ms/step - AUC: 0.9985 - accuracy: 0.9665 - loss: 1.3403 - val_AUC: 0.9784 - val_accuracy: 0.8201 - val_loss: 1.7721\n",
      "Epoch 27/100\n",
      "\u001b[1m45/45\u001b[0m \u001b[32m━━━━━━━━━━━━━━━━━━━━\u001b[0m\u001b[37m\u001b[0m \u001b[1m0s\u001b[0m 41ms/step - AUC: 0.9987 - accuracy: 0.9565 - loss: 1.3330\n",
      "Epoch 27: val_loss did not improve from 1.58990\n",
      "\u001b[1m45/45\u001b[0m \u001b[32m━━━━━━━━━━━━━━━━━━━━\u001b[0m\u001b[37m\u001b[0m \u001b[1m2s\u001b[0m 51ms/step - AUC: 0.9987 - accuracy: 0.9566 - loss: 1.3329 - val_AUC: 0.9617 - val_accuracy: 0.7556 - val_loss: 1.9967\n",
      "Epoch 28/100\n",
      "\u001b[1m45/45\u001b[0m \u001b[32m━━━━━━━━━━━━━━━━━━━━\u001b[0m\u001b[37m\u001b[0m \u001b[1m0s\u001b[0m 41ms/step - AUC: 0.9984 - accuracy: 0.9589 - loss: 1.3197\n",
      "Epoch 28: val_loss did not improve from 1.58990\n",
      "\u001b[1m45/45\u001b[0m \u001b[32m━━━━━━━━━━━━━━━━━━━━\u001b[0m\u001b[37m\u001b[0m \u001b[1m2s\u001b[0m 52ms/step - AUC: 0.9984 - accuracy: 0.9589 - loss: 1.3197 - val_AUC: 0.9563 - val_accuracy: 0.7160 - val_loss: 2.0738\n",
      "Epoch 29/100\n",
      "\u001b[1m44/45\u001b[0m \u001b[32m━━━━━━━━━━━━━━━━━━━\u001b[0m\u001b[37m━\u001b[0m \u001b[1m0s\u001b[0m 40ms/step - AUC: 0.9988 - accuracy: 0.9590 - loss: 1.3087\n",
      "Epoch 29: val_loss did not improve from 1.58990\n",
      "\u001b[1m45/45\u001b[0m \u001b[32m━━━━━━━━━━━━━━━━━━━━\u001b[0m\u001b[37m\u001b[0m \u001b[1m2s\u001b[0m 50ms/step - AUC: 0.9988 - accuracy: 0.9591 - loss: 1.3085 - val_AUC: 0.8851 - val_accuracy: 0.5340 - val_loss: 2.9059\n",
      "Epoch 30/100\n",
      "\u001b[1m45/45\u001b[0m \u001b[32m━━━━━━━━━━━━━━━━━━━━\u001b[0m\u001b[37m\u001b[0m \u001b[1m0s\u001b[0m 41ms/step - AUC: 0.9983 - accuracy: 0.9587 - loss: 1.3056\n",
      "Epoch 30: val_loss did not improve from 1.58990\n",
      "\u001b[1m45/45\u001b[0m \u001b[32m━━━━━━━━━━━━━━━━━━━━\u001b[0m\u001b[37m\u001b[0m \u001b[1m2s\u001b[0m 52ms/step - AUC: 0.9983 - accuracy: 0.9587 - loss: 1.3055 - val_AUC: 0.7989 - val_accuracy: 0.4319 - val_loss: 4.0255\n",
      "Epoch 31/100\n",
      "\u001b[1m45/45\u001b[0m \u001b[32m━━━━━━━━━━━━━━━━━━━━\u001b[0m\u001b[37m\u001b[0m \u001b[1m0s\u001b[0m 41ms/step - AUC: 0.9984 - accuracy: 0.9636 - loss: 1.2842\n",
      "Epoch 31: val_loss did not improve from 1.58990\n",
      "\u001b[1m45/45\u001b[0m \u001b[32m━━━━━━━━━━━━━━━━━━━━\u001b[0m\u001b[37m\u001b[0m \u001b[1m2s\u001b[0m 52ms/step - AUC: 0.9984 - accuracy: 0.9635 - loss: 1.2843 - val_AUC: 0.9508 - val_accuracy: 0.7125 - val_loss: 2.1140\n",
      "Epoch 32/100\n",
      "\u001b[1m45/45\u001b[0m \u001b[32m━━━━━━━━━━━━━━━━━━━━\u001b[0m\u001b[37m\u001b[0m \u001b[1m0s\u001b[0m 41ms/step - AUC: 0.9985 - accuracy: 0.9569 - loss: 1.2894\n",
      "Epoch 32: val_loss did not improve from 1.58990\n",
      "\u001b[1m45/45\u001b[0m \u001b[32m━━━━━━━━━━━━━━━━━━━━\u001b[0m\u001b[37m\u001b[0m \u001b[1m2s\u001b[0m 53ms/step - AUC: 0.9985 - accuracy: 0.9569 - loss: 1.2894 - val_AUC: 0.9587 - val_accuracy: 0.7847 - val_loss: 1.9359\n",
      "Epoch 32: early stopping\n",
      "Restoring model weights from the end of the best epoch: 22.\n",
      "Trainin Time: 0:02:06.432529\n"
     ]
    }
   ],
   "source": [
    "start_time = datetime.datetime.now()\n",
    "\n",
    "history = model.fit(X_train, y_train,\n",
    "                    epochs = 100,\n",
    "                    validation_data = (X_val, y_val),\n",
    "                    batch_size= 128,\n",
    "                    callbacks =[early_stopping, model_checkpoint]\n",
    "         )\n",
    "\n",
    "end_time = datetime.datetime.now()\n",
    "total_duration = end_time - start_time\n",
    "print(\"Trainin Time:\", total_duration)"
   ]
  },
  {
   "cell_type": "code",
   "execution_count": 23,
   "id": "511acca1",
   "metadata": {
    "execution": {
     "iopub.execute_input": "2024-11-16T06:45:25.822149Z",
     "iopub.status.busy": "2024-11-16T06:45:25.821072Z",
     "iopub.status.idle": "2024-11-16T06:45:26.565264Z",
     "shell.execute_reply": "2024-11-16T06:45:26.564266Z"
    },
    "papermill": {
     "duration": 0.8376,
     "end_time": "2024-11-16T06:45:26.568115",
     "exception": false,
     "start_time": "2024-11-16T06:45:25.730515",
     "status": "completed"
    },
    "tags": []
   },
   "outputs": [
    {
     "data": {
      "image/png": "[encoded data removed]",
      "text/plain": [
       "<Figure size 1200x500 with 2 Axes>"
      ]
     },
     "metadata": {},
     "output_type": "display_data"
    }
   ],
   "source": [
    "# Eğitim sonuçlarını görselleştirelim\n",
    "plt.figure(figsize=(12, 5))\n",
    "\n",
    "# Loss grafiği\n",
    "plt.subplot(1, 2, 1)\n",
    "plt.plot(history.history['loss'], label='Train Loss')\n",
    "plt.plot(history.history['val_loss'], label='Validation Loss')\n",
    "plt.title('Loss Grafiği')\n",
    "plt.xlabel('Epochs')\n",
    "plt.ylabel('Loss')\n",
    "plt.legend()\n",
    "\n",
    "# Accuracy grafiği\n",
    "plt.subplot(1, 2, 2)\n",
    "plt.plot(history.history['accuracy'], label='Train Accuracy')\n",
    "plt.plot(history.history['val_accuracy'], label='Validation Accuracy')\n",
    "plt.title('Accuracy Grafiği')\n",
    "plt.xlabel('Epochs')\n",
    "plt.ylabel('Accuracy')\n",
    "plt.legend()\n",
    "\n",
    "plt.tight_layout()\n",
    "plt.show()"
   ]
  },
  {
   "cell_type": "code",
   "execution_count": 24,
   "id": "8df1222e",
   "metadata": {
    "execution": {
     "iopub.execute_input": "2024-11-16T06:45:26.759456Z",
     "iopub.status.busy": "2024-11-16T06:45:26.759048Z",
     "iopub.status.idle": "2024-11-16T06:45:27.857229Z",
     "shell.execute_reply": "2024-11-16T06:45:27.856092Z"
    },
    "papermill": {
     "duration": 1.193988,
     "end_time": "2024-11-16T06:45:27.859536",
     "exception": false,
     "start_time": "2024-11-16T06:45:26.665548",
     "status": "completed"
    },
    "tags": []
   },
   "outputs": [
    {
     "name": "stdout",
     "output_type": "stream",
     "text": [
      "Loss: 1.5899004936218262\n",
      "Accuracy: 0.886805534362793\n",
      "AUC: 0.991287887096405\n"
     ]
    }
   ],
   "source": [
    "val_loss, val_accuracy, val_auc = model.evaluate(X_val, y_val, verbose=0)\n",
    "print(f\"Loss: {val_loss}\")\n",
    "print(f\"Accuracy: {val_accuracy}\")\n",
    "print(f\"AUC: {val_auc}\")"
   ]
  },
  {
   "cell_type": "code",
   "execution_count": 25,
   "id": "4f370bc7",
   "metadata": {
    "execution": {
     "iopub.execute_input": "2024-11-16T06:45:28.037348Z",
     "iopub.status.busy": "2024-11-16T06:45:28.036785Z",
     "iopub.status.idle": "2024-11-16T06:45:30.286459Z",
     "shell.execute_reply": "2024-11-16T06:45:30.285399Z"
    },
    "papermill": {
     "duration": 2.340321,
     "end_time": "2024-11-16T06:45:30.288512",
     "exception": false,
     "start_time": "2024-11-16T06:45:27.948191",
     "status": "completed"
    },
    "tags": []
   },
   "outputs": [
    {
     "name": "stdout",
     "output_type": "stream",
     "text": [
      "\u001b[1m57/57\u001b[0m \u001b[32m━━━━━━━━━━━━━━━━━━━━\u001b[0m\u001b[37m\u001b[0m \u001b[1m1s\u001b[0m 20ms/step\n"
     ]
    }
   ],
   "source": [
    "# Test seti üzerinde tahmin yapalım.\n",
    "y_pred = model.predict(X_test)\n",
    "\n",
    "# En yüksek olasılığı bulup sınıf indeksine çevirelim.\n",
    "y_pred_classes = y_pred.argmax(axis=-1)\n",
    "\n",
    "# Gerçek etiketler one-hot encode edilmiş halde, bu yüzden onları da sınıf indekslerine dönüştürelim.\n",
    "y_test = np.array(y_test) # test seti ile tahmin sunuçlarının veri tipi farklı olduğu için test setini de np array'e çevirelim.\n",
    "y_test_classes = y_test.argmax(axis=-1)"
   ]
  },
  {
   "cell_type": "code",
   "execution_count": 26,
   "id": "d2f0e3be",
   "metadata": {
    "execution": {
     "iopub.execute_input": "2024-11-16T06:45:30.511374Z",
     "iopub.status.busy": "2024-11-16T06:45:30.510406Z",
     "iopub.status.idle": "2024-11-16T06:45:30.528057Z",
     "shell.execute_reply": "2024-11-16T06:45:30.527119Z"
    },
    "papermill": {
     "duration": 0.111001,
     "end_time": "2024-11-16T06:45:30.530098",
     "exception": false,
     "start_time": "2024-11-16T06:45:30.419097",
     "status": "completed"
    },
    "tags": []
   },
   "outputs": [
    {
     "name": "stdout",
     "output_type": "stream",
     "text": [
      "Weighted Accuracy: 0.8777777777777778\n",
      "Weighted Precision: 0.8952293456029803\n",
      "Weighted Recall: 0.8777777777777778\n",
      "Weighted F1 Score: 0.8791265133477679\n"
     ]
    }
   ],
   "source": [
    "from sklearn.metrics import accuracy_score, precision_score, recall_score, f1_score\n",
    "\n",
    "# Çok sınıflı sınıflandırma için precision, recall, F1 score hesaplama average=\"weighted\" ifadesi ile sınıf dağılımlarına göre ağırıklı ort. alır. \n",
    "accuracy = accuracy_score(y_test_classes, y_pred_classes)\n",
    "precision = precision_score(y_test_classes, y_pred_classes, average='weighted')\n",
    "recall = recall_score(y_test_classes, y_pred_classes, average='weighted')\n",
    "f1 = f1_score(y_test_classes, y_pred_classes, average='weighted')\n",
    "\n",
    "print(f'Weighted Accuracy: {accuracy}')\n",
    "print(f'Weighted Precision: {precision}')\n",
    "print(f'Weighted Recall: {recall}')\n",
    "print(f'Weighted F1 Score: {f1}')"
   ]
  }
 ],
 "metadata": {
  "kaggle": {
   "accelerator": "nvidiaTeslaT4",
   "dataSources": [
    {
     "datasetId": 1165452,
     "sourceId": 2170465,
     "sourceType": "datasetVersion"
    }
   ],
   "dockerImageVersionId": 30786,
   "isGpuEnabled": true,
   "isInternetEnabled": true,
   "language": "python",
   "sourceType": "notebook"
  },
  "kernelspec": {
   "display_name": "Python 3",
   "language": "python",
   "name": "python3"
  },
  "language_info": {
   "codemirror_mode": {
    "name": "ipython",
    "version": 3
   },
   "file_extension": ".py",
   "mimetype": "text/x-python",
   "name": "python",
   "nbconvert_exporter": "python",
   "pygments_lexer": "ipython3",
   "version": "3.10.14"
  },
  "papermill": {
   "default_parameters": {},
   "duration": 325.900595,
   "end_time": "2024-11-16T06:45:33.716742",
   "environment_variables": {},
   "exception": null,
   "input_path": "__notebook__.ipynb",
   "output_path": "__notebook__.ipynb",
   "parameters": {},
   "start_time": "2024-11-16T06:40:07.816147",
   "version": "2.6.0"
  }
 },
 "nbformat": 4,
 "nbformat_minor": 5
}
