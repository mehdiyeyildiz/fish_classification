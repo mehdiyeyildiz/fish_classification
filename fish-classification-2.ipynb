{
 "cells": [
  {
   "cell_type": "code",
   "execution_count": 1,
   "id": "14d7a0ae",
   "metadata": {
    "_cell_guid": "b1076dfc-b9ad-4769-8c92-a6c4dae69d19",
    "_uuid": "8f2839f25d086af736a60e9eeb907d3b93b6e0e5",
    "execution": {
     "iopub.execute_input": "2024-10-24T00:03:29.380937Z",
     "iopub.status.busy": "2024-10-24T00:03:29.380225Z",
     "iopub.status.idle": "2024-10-24T00:03:52.348002Z",
     "shell.execute_reply": "2024-10-24T00:03:52.347133Z"
    },
    "papermill": {
     "duration": 22.980687,
     "end_time": "2024-10-24T00:03:52.350380",
     "exception": false,
     "start_time": "2024-10-24T00:03:29.369693",
     "status": "completed"
    },
    "tags": []
   },
   "outputs": [],
   "source": [
    "import os\n",
    "import numpy as np\n",
    "import pandas as pd\n",
    "import matplotlib.pyplot as plt\n",
    "import datetime\n",
    "from sklearn.model_selection import train_test_split\n",
    "from tensorflow.keras.preprocessing.image import load_img, img_to_array\n",
    "from tensorflow.keras.preprocessing import image\n",
    "import tensorflow as tf\n",
    "from sklearn.preprocessing import OneHotEncoder\n",
    "\n",
    "from tensorflow.keras import layers, metrics\n",
    "from tensorflow.keras.models  import Sequential, load_model\n",
    "from tensorflow.keras.metrics import Accuracy, AUC\n",
    "from tensorflow.keras.optimizers import Adam\n",
    "from tensorflow.keras.regularizers import l2\n",
    "from tensorflow.keras.layers import Dense, Dropout, BatchNormalization, Input, Activation\n",
    "from tensorflow.keras.callbacks import ModelCheckpoint,EarlyStopping\n",
    "from tensorflow.keras.preprocessing.image import ImageDataGenerator\n",
    "from sklearn.metrics import precision_score, recall_score, f1_score"
   ]
  },
  {
   "cell_type": "markdown",
   "id": "0c991542",
   "metadata": {
    "papermill": {
     "duration": 0.007479,
     "end_time": "2024-10-24T00:03:52.366521",
     "exception": false,
     "start_time": "2024-10-24T00:03:52.359042",
     "status": "completed"
    },
    "tags": []
   },
   "source": [
    "Görüntü path'lerini ve label'larını dataframe'e çevirelim."
   ]
  },
  {
   "cell_type": "code",
   "execution_count": 2,
   "id": "fcec31eb",
   "metadata": {
    "execution": {
     "iopub.execute_input": "2024-10-24T00:03:52.384175Z",
     "iopub.status.busy": "2024-10-24T00:03:52.383419Z",
     "iopub.status.idle": "2024-10-24T00:03:55.659455Z",
     "shell.execute_reply": "2024-10-24T00:03:55.658698Z"
    },
    "papermill": {
     "duration": 3.287685,
     "end_time": "2024-10-24T00:03:55.661697",
     "exception": false,
     "start_time": "2024-10-24T00:03:52.374012",
     "status": "completed"
    },
    "tags": []
   },
   "outputs": [],
   "source": [
    "label = []\n",
    "path = []\n",
    "fish_dir = '/kaggle/input/a-large-scale-fish-dataset/Fish_Dataset/Fish_Dataset/'\n",
    "for dir_name, _, filenames in os.walk(fish_dir):\n",
    "    for filename in filenames:\n",
    "        if os.path.splitext(filename)[-1]==\".png\":\n",
    "            if dir_name.split()[-1]!=\"GT\":\n",
    "                label.append(os.path.split(dir_name)[-1])\n",
    "                path.append(os.path.join(dir_name, filename))\n",
    "data =pd.DataFrame(columns=[\"path\",\"label\"])\n",
    "data[\"path\"]=path\n",
    "data[\"label\"]=label\n"
   ]
  },
  {
   "cell_type": "code",
   "execution_count": 3,
   "id": "8170aeef",
   "metadata": {
    "execution": {
     "iopub.execute_input": "2024-10-24T00:03:55.678715Z",
     "iopub.status.busy": "2024-10-24T00:03:55.678377Z",
     "iopub.status.idle": "2024-10-24T00:03:55.692840Z",
     "shell.execute_reply": "2024-10-24T00:03:55.691886Z"
    },
    "papermill": {
     "duration": 0.025556,
     "end_time": "2024-10-24T00:03:55.694997",
     "exception": false,
     "start_time": "2024-10-24T00:03:55.669441",
     "status": "completed"
    },
    "tags": []
   },
   "outputs": [
    {
     "data": {
      "text/html": [
       "<div>\n",
       "<style scoped>\n",
       "    .dataframe tbody tr th:only-of-type {\n",
       "        vertical-align: middle;\n",
       "    }\n",
       "\n",
       "    .dataframe tbody tr th {\n",
       "        vertical-align: top;\n",
       "    }\n",
       "\n",
       "    .dataframe thead th {\n",
       "        text-align: right;\n",
       "    }\n",
       "</style>\n",
       "<table border=\"1\" class=\"dataframe\">\n",
       "  <thead>\n",
       "    <tr style=\"text-align: right;\">\n",
       "      <th></th>\n",
       "      <th>path</th>\n",
       "      <th>label</th>\n",
       "    </tr>\n",
       "  </thead>\n",
       "  <tbody>\n",
       "    <tr>\n",
       "      <th>0</th>\n",
       "      <td>/kaggle/input/a-large-scale-fish-dataset/Fish_...</td>\n",
       "      <td>Hourse Mackerel</td>\n",
       "    </tr>\n",
       "    <tr>\n",
       "      <th>1</th>\n",
       "      <td>/kaggle/input/a-large-scale-fish-dataset/Fish_...</td>\n",
       "      <td>Hourse Mackerel</td>\n",
       "    </tr>\n",
       "    <tr>\n",
       "      <th>2</th>\n",
       "      <td>/kaggle/input/a-large-scale-fish-dataset/Fish_...</td>\n",
       "      <td>Hourse Mackerel</td>\n",
       "    </tr>\n",
       "    <tr>\n",
       "      <th>3</th>\n",
       "      <td>/kaggle/input/a-large-scale-fish-dataset/Fish_...</td>\n",
       "      <td>Hourse Mackerel</td>\n",
       "    </tr>\n",
       "    <tr>\n",
       "      <th>4</th>\n",
       "      <td>/kaggle/input/a-large-scale-fish-dataset/Fish_...</td>\n",
       "      <td>Hourse Mackerel</td>\n",
       "    </tr>\n",
       "  </tbody>\n",
       "</table>\n",
       "</div>"
      ],
      "text/plain": [
       "                                                path            label\n",
       "0  /kaggle/input/a-large-scale-fish-dataset/Fish_...  Hourse Mackerel\n",
       "1  /kaggle/input/a-large-scale-fish-dataset/Fish_...  Hourse Mackerel\n",
       "2  /kaggle/input/a-large-scale-fish-dataset/Fish_...  Hourse Mackerel\n",
       "3  /kaggle/input/a-large-scale-fish-dataset/Fish_...  Hourse Mackerel\n",
       "4  /kaggle/input/a-large-scale-fish-dataset/Fish_...  Hourse Mackerel"
      ]
     },
     "execution_count": 3,
     "metadata": {},
     "output_type": "execute_result"
    }
   ],
   "source": [
    "data.head()"
   ]
  },
  {
   "cell_type": "markdown",
   "id": "24fdc86c",
   "metadata": {
    "papermill": {
     "duration": 0.008214,
     "end_time": "2024-10-24T00:03:55.711629",
     "exception": false,
     "start_time": "2024-10-24T00:03:55.703415",
     "status": "completed"
    },
    "tags": []
   },
   "source": [
    "X_path ve y değişkenlerini ayıralım."
   ]
  },
  {
   "cell_type": "code",
   "execution_count": 4,
   "id": "33ce28ab",
   "metadata": {
    "execution": {
     "iopub.execute_input": "2024-10-24T00:03:55.727772Z",
     "iopub.status.busy": "2024-10-24T00:03:55.727471Z",
     "iopub.status.idle": "2024-10-24T00:03:55.731772Z",
     "shell.execute_reply": "2024-10-24T00:03:55.730871Z"
    },
    "papermill": {
     "duration": 0.014536,
     "end_time": "2024-10-24T00:03:55.733576",
     "exception": false,
     "start_time": "2024-10-24T00:03:55.719040",
     "status": "completed"
    },
    "tags": []
   },
   "outputs": [],
   "source": [
    "X_path = data[\"path\"]\n",
    "y = data[\"label\"]"
   ]
  },
  {
   "cell_type": "markdown",
   "id": "71553d9f",
   "metadata": {
    "papermill": {
     "duration": 0.007364,
     "end_time": "2024-10-24T00:03:55.748309",
     "exception": false,
     "start_time": "2024-10-24T00:03:55.740945",
     "status": "completed"
    },
    "tags": []
   },
   "source": [
    "pathlerdeki görüntüleri okutup array'a çevirelim ve X olarak atayalım."
   ]
  },
  {
   "cell_type": "code",
   "execution_count": 5,
   "id": "2386cf85",
   "metadata": {
    "execution": {
     "iopub.execute_input": "2024-10-24T00:03:55.764551Z",
     "iopub.status.busy": "2024-10-24T00:03:55.764258Z",
     "iopub.status.idle": "2024-10-24T00:06:47.188673Z",
     "shell.execute_reply": "2024-10-24T00:06:47.187611Z"
    },
    "papermill": {
     "duration": 171.442983,
     "end_time": "2024-10-24T00:06:47.198898",
     "exception": false,
     "start_time": "2024-10-24T00:03:55.755915",
     "status": "completed"
    },
    "tags": []
   },
   "outputs": [
    {
     "name": "stdout",
     "output_type": "stream",
     "text": [
      "[array([[[0., 0., 0.],\n",
      "        [0., 0., 0.],\n",
      "        [0., 0., 0.],\n",
      "        ...,\n",
      "        [0., 0., 0.],\n",
      "        [0., 0., 0.],\n",
      "        [0., 0., 0.]],\n",
      "\n",
      "       [[0., 0., 0.],\n",
      "        [0., 0., 0.],\n",
      "        [0., 0., 0.],\n",
      "        ...,\n",
      "        [0., 0., 0.],\n",
      "        [0., 0., 0.],\n",
      "        [0., 0., 0.]],\n",
      "\n",
      "       [[0., 0., 0.],\n",
      "        [0., 0., 0.],\n",
      "        [0., 0., 0.],\n",
      "        ...,\n",
      "        [0., 0., 0.],\n",
      "        [0., 0., 0.],\n",
      "        [0., 0., 0.]],\n",
      "\n",
      "       ...,\n",
      "\n",
      "       [[0., 0., 0.],\n",
      "        [0., 0., 0.],\n",
      "        [0., 0., 0.],\n",
      "        ...,\n",
      "        [0., 0., 0.],\n",
      "        [0., 0., 0.],\n",
      "        [0., 0., 0.]],\n",
      "\n",
      "       [[0., 0., 0.],\n",
      "        [0., 0., 0.],\n",
      "        [0., 0., 0.],\n",
      "        ...,\n",
      "        [0., 0., 0.],\n",
      "        [0., 0., 0.],\n",
      "        [0., 0., 0.]],\n",
      "\n",
      "       [[0., 0., 0.],\n",
      "        [0., 0., 0.],\n",
      "        [0., 0., 0.],\n",
      "        ...,\n",
      "        [0., 0., 0.],\n",
      "        [0., 0., 0.],\n",
      "        [0., 0., 0.]]], dtype=float32)]\n"
     ]
    }
   ],
   "source": [
    "X =[]\n",
    "for path in X_path:\n",
    "    img = image.load_img(path, target_size=(224,224))\n",
    "    img_array = image.img_to_array(img)\n",
    "    X.append(img_array)\n",
    "\n",
    "print(X[0:1])"
   ]
  },
  {
   "cell_type": "markdown",
   "id": "93ca003c",
   "metadata": {
    "papermill": {
     "duration": 0.007965,
     "end_time": "2024-10-24T00:06:47.215038",
     "exception": false,
     "start_time": "2024-10-24T00:06:47.207073",
     "status": "completed"
    },
    "tags": []
   },
   "source": [
    "X y'leri işlemleri rahat yapabilmek adına numpy array'ine dönüştürelim."
   ]
  },
  {
   "cell_type": "code",
   "execution_count": 6,
   "id": "f2f2a0e1",
   "metadata": {
    "execution": {
     "iopub.execute_input": "2024-10-24T00:06:47.233530Z",
     "iopub.status.busy": "2024-10-24T00:06:47.233181Z",
     "iopub.status.idle": "2024-10-24T00:06:48.827288Z",
     "shell.execute_reply": "2024-10-24T00:06:48.826287Z"
    },
    "papermill": {
     "duration": 1.606585,
     "end_time": "2024-10-24T00:06:48.829743",
     "exception": false,
     "start_time": "2024-10-24T00:06:47.223158",
     "status": "completed"
    },
    "tags": []
   },
   "outputs": [],
   "source": [
    "X = np.array(X)\n",
    "y = np.array(y)"
   ]
  },
  {
   "cell_type": "code",
   "execution_count": 7,
   "id": "c27d4b23",
   "metadata": {
    "execution": {
     "iopub.execute_input": "2024-10-24T00:06:48.846856Z",
     "iopub.status.busy": "2024-10-24T00:06:48.846489Z",
     "iopub.status.idle": "2024-10-24T00:06:48.851290Z",
     "shell.execute_reply": "2024-10-24T00:06:48.850366Z"
    },
    "papermill": {
     "duration": 0.015792,
     "end_time": "2024-10-24T00:06:48.853533",
     "exception": false,
     "start_time": "2024-10-24T00:06:48.837741",
     "status": "completed"
    },
    "tags": []
   },
   "outputs": [
    {
     "name": "stdout",
     "output_type": "stream",
     "text": [
      "9000\n",
      "9000\n"
     ]
    }
   ],
   "source": [
    "print(len(X))\n",
    "print(len(y))"
   ]
  },
  {
   "cell_type": "code",
   "execution_count": 8,
   "id": "8706c6a0",
   "metadata": {
    "execution": {
     "iopub.execute_input": "2024-10-24T00:06:48.870459Z",
     "iopub.status.busy": "2024-10-24T00:06:48.870149Z",
     "iopub.status.idle": "2024-10-24T00:06:48.874619Z",
     "shell.execute_reply": "2024-10-24T00:06:48.873842Z"
    },
    "papermill": {
     "duration": 0.015311,
     "end_time": "2024-10-24T00:06:48.876624",
     "exception": false,
     "start_time": "2024-10-24T00:06:48.861313",
     "status": "completed"
    },
    "tags": []
   },
   "outputs": [
    {
     "name": "stdout",
     "output_type": "stream",
     "text": [
      "(9000, 224, 224, 3)\n",
      "(9000,)\n"
     ]
    }
   ],
   "source": [
    "print(X.shape)\n",
    "print(y.shape)"
   ]
  },
  {
   "cell_type": "code",
   "execution_count": 9,
   "id": "8b9d0af5",
   "metadata": {
    "execution": {
     "iopub.execute_input": "2024-10-24T00:06:48.894107Z",
     "iopub.status.busy": "2024-10-24T00:06:48.893635Z",
     "iopub.status.idle": "2024-10-24T00:06:50.454358Z",
     "shell.execute_reply": "2024-10-24T00:06:50.453548Z"
    },
    "papermill": {
     "duration": 1.572013,
     "end_time": "2024-10-24T00:06:50.456686",
     "exception": false,
     "start_time": "2024-10-24T00:06:48.884673",
     "status": "completed"
    },
    "tags": []
   },
   "outputs": [],
   "source": [
    "# Görselleri normalize edelim\n",
    "X = X / 255"
   ]
  },
  {
   "cell_type": "code",
   "execution_count": 10,
   "id": "2296cc58",
   "metadata": {
    "execution": {
     "iopub.execute_input": "2024-10-24T00:06:50.473972Z",
     "iopub.status.busy": "2024-10-24T00:06:50.473670Z",
     "iopub.status.idle": "2024-10-24T00:06:50.500882Z",
     "shell.execute_reply": "2024-10-24T00:06:50.500022Z"
    },
    "papermill": {
     "duration": 0.037901,
     "end_time": "2024-10-24T00:06:50.502734",
     "exception": false,
     "start_time": "2024-10-24T00:06:50.464833",
     "status": "completed"
    },
    "tags": []
   },
   "outputs": [
    {
     "data": {
      "text/html": [
       "<div>\n",
       "<style scoped>\n",
       "    .dataframe tbody tr th:only-of-type {\n",
       "        vertical-align: middle;\n",
       "    }\n",
       "\n",
       "    .dataframe tbody tr th {\n",
       "        vertical-align: top;\n",
       "    }\n",
       "\n",
       "    .dataframe thead th {\n",
       "        text-align: right;\n",
       "    }\n",
       "</style>\n",
       "<table border=\"1\" class=\"dataframe\">\n",
       "  <thead>\n",
       "    <tr style=\"text-align: right;\">\n",
       "      <th></th>\n",
       "      <th>Black Sea Sprat</th>\n",
       "      <th>Gilt-Head Bream</th>\n",
       "      <th>Hourse Mackerel</th>\n",
       "      <th>Red Mullet</th>\n",
       "      <th>Red Sea Bream</th>\n",
       "      <th>Sea Bass</th>\n",
       "      <th>Shrimp</th>\n",
       "      <th>Striped Red Mullet</th>\n",
       "      <th>Trout</th>\n",
       "    </tr>\n",
       "  </thead>\n",
       "  <tbody>\n",
       "    <tr>\n",
       "      <th>0</th>\n",
       "      <td>0</td>\n",
       "      <td>0</td>\n",
       "      <td>1</td>\n",
       "      <td>0</td>\n",
       "      <td>0</td>\n",
       "      <td>0</td>\n",
       "      <td>0</td>\n",
       "      <td>0</td>\n",
       "      <td>0</td>\n",
       "    </tr>\n",
       "    <tr>\n",
       "      <th>1</th>\n",
       "      <td>0</td>\n",
       "      <td>0</td>\n",
       "      <td>1</td>\n",
       "      <td>0</td>\n",
       "      <td>0</td>\n",
       "      <td>0</td>\n",
       "      <td>0</td>\n",
       "      <td>0</td>\n",
       "      <td>0</td>\n",
       "    </tr>\n",
       "    <tr>\n",
       "      <th>2</th>\n",
       "      <td>0</td>\n",
       "      <td>0</td>\n",
       "      <td>1</td>\n",
       "      <td>0</td>\n",
       "      <td>0</td>\n",
       "      <td>0</td>\n",
       "      <td>0</td>\n",
       "      <td>0</td>\n",
       "      <td>0</td>\n",
       "    </tr>\n",
       "  </tbody>\n",
       "</table>\n",
       "</div>"
      ],
      "text/plain": [
       "   Black Sea Sprat  Gilt-Head Bream  Hourse Mackerel  Red Mullet  \\\n",
       "0                0                0                1           0   \n",
       "1                0                0                1           0   \n",
       "2                0                0                1           0   \n",
       "\n",
       "   Red Sea Bream  Sea Bass  Shrimp  Striped Red Mullet  Trout  \n",
       "0              0         0       0                   0      0  \n",
       "1              0         0       0                   0      0  \n",
       "2              0         0       0                   0      0  "
      ]
     },
     "execution_count": 10,
     "metadata": {},
     "output_type": "execute_result"
    }
   ],
   "source": [
    "#labelları one-hot encode edelim. ilk 3 değeri gözlemleyelim.\n",
    "y = pd.get_dummies(y).astype(int)\n",
    "y[0:3]"
   ]
  },
  {
   "cell_type": "code",
   "execution_count": 11,
   "id": "60cd53d5",
   "metadata": {
    "execution": {
     "iopub.execute_input": "2024-10-24T00:06:50.520752Z",
     "iopub.status.busy": "2024-10-24T00:06:50.520188Z",
     "iopub.status.idle": "2024-10-24T00:06:50.524917Z",
     "shell.execute_reply": "2024-10-24T00:06:50.524052Z"
    },
    "papermill": {
     "duration": 0.016321,
     "end_time": "2024-10-24T00:06:50.526990",
     "exception": false,
     "start_time": "2024-10-24T00:06:50.510669",
     "status": "completed"
    },
    "tags": []
   },
   "outputs": [
    {
     "name": "stdout",
     "output_type": "stream",
     "text": [
      "(9000, 224, 224, 3)\n",
      "(9000, 9)\n"
     ]
    }
   ],
   "source": [
    "print(X.shape)\n",
    "print(y.shape)"
   ]
  },
  {
   "cell_type": "markdown",
   "id": "f3feaa81",
   "metadata": {
    "papermill": {
     "duration": 0.007807,
     "end_time": "2024-10-24T00:06:50.542838",
     "exception": false,
     "start_time": "2024-10-24T00:06:50.535031",
     "status": "completed"
    },
    "tags": []
   },
   "source": [
    "Train, valisayon ve test setleri oluşturalım. Verinin her bir kümeye homojen dağılımı olsun diye shuffle uygulayalım."
   ]
  },
  {
   "cell_type": "code",
   "execution_count": 12,
   "id": "d202172d",
   "metadata": {
    "execution": {
     "iopub.execute_input": "2024-10-24T00:06:50.560153Z",
     "iopub.status.busy": "2024-10-24T00:06:50.559881Z",
     "iopub.status.idle": "2024-10-24T00:06:51.742209Z",
     "shell.execute_reply": "2024-10-24T00:06:51.741383Z"
    },
    "papermill": {
     "duration": 1.193758,
     "end_time": "2024-10-24T00:06:51.744625",
     "exception": false,
     "start_time": "2024-10-24T00:06:50.550867",
     "status": "completed"
    },
    "tags": []
   },
   "outputs": [],
   "source": [
    "X_train, X_test, y_train, y_test = train_test_split(X, y, test_size=0.2, shuffle=True)"
   ]
  },
  {
   "cell_type": "code",
   "execution_count": 13,
   "id": "1eb1aa7c",
   "metadata": {
    "execution": {
     "iopub.execute_input": "2024-10-24T00:06:51.762850Z",
     "iopub.status.busy": "2024-10-24T00:06:51.762521Z",
     "iopub.status.idle": "2024-10-24T00:06:52.942681Z",
     "shell.execute_reply": "2024-10-24T00:06:52.941474Z"
    },
    "papermill": {
     "duration": 1.19243,
     "end_time": "2024-10-24T00:06:52.945432",
     "exception": false,
     "start_time": "2024-10-24T00:06:51.753002",
     "status": "completed"
    },
    "tags": []
   },
   "outputs": [],
   "source": [
    "X_train, X_val, y_train, y_val = train_test_split(X_train, y_train, test_size=0.2)"
   ]
  },
  {
   "cell_type": "code",
   "execution_count": 14,
   "id": "8421c51e",
   "metadata": {
    "execution": {
     "iopub.execute_input": "2024-10-24T00:06:52.965650Z",
     "iopub.status.busy": "2024-10-24T00:06:52.965067Z",
     "iopub.status.idle": "2024-10-24T00:06:52.970257Z",
     "shell.execute_reply": "2024-10-24T00:06:52.969403Z"
    },
    "papermill": {
     "duration": 0.016887,
     "end_time": "2024-10-24T00:06:52.972489",
     "exception": false,
     "start_time": "2024-10-24T00:06:52.955602",
     "status": "completed"
    },
    "tags": []
   },
   "outputs": [
    {
     "name": "stdout",
     "output_type": "stream",
     "text": [
      "(5760, 224, 224, 3)\n",
      "(5760, 9)\n",
      "(1440, 224, 224, 3)\n",
      "(1440, 9)\n"
     ]
    }
   ],
   "source": [
    "print(X_train.shape)\n",
    "print(y_train.shape)\n",
    "print(X_val.shape)\n",
    "print(y_val.shape)"
   ]
  },
  {
   "cell_type": "markdown",
   "id": "242755c5",
   "metadata": {
    "papermill": {
     "duration": 0.008037,
     "end_time": "2024-10-24T00:06:52.988841",
     "exception": false,
     "start_time": "2024-10-24T00:06:52.980804",
     "status": "completed"
    },
    "tags": []
   },
   "source": [
    "Train setine veri çoğaltma işlemleri uygulayalım. Daha önceden ölçeklendirme yaptığımız için burada rescale parametresini kullanmadık."
   ]
  },
  {
   "cell_type": "code",
   "execution_count": 15,
   "id": "ef4e4e0f",
   "metadata": {
    "execution": {
     "iopub.execute_input": "2024-10-24T00:06:53.006342Z",
     "iopub.status.busy": "2024-10-24T00:06:53.006051Z",
     "iopub.status.idle": "2024-10-24T00:06:53.010990Z",
     "shell.execute_reply": "2024-10-24T00:06:53.010132Z"
    },
    "papermill": {
     "duration": 0.015945,
     "end_time": "2024-10-24T00:06:53.012893",
     "exception": false,
     "start_time": "2024-10-24T00:06:52.996948",
     "status": "completed"
    },
    "tags": []
   },
   "outputs": [],
   "source": [
    "train_datagen = ImageDataGenerator(\n",
    "    rotation_range=40,\n",
    "    width_shift_range=0.1,\n",
    "    height_shift_range=0.1,\n",
    "    shear_range=0.1,\n",
    "    zoom_range=0.1,\n",
    "    horizontal_flip=True,\n",
    "    vertical_flip=True\n",
    ")\n",
    "\n",
    "train_generator = train_datagen.flow(X_train, y_train, batch_size=128)"
   ]
  },
  {
   "cell_type": "markdown",
   "id": "6798d2e8",
   "metadata": {
    "papermill": {
     "duration": 0.007939,
     "end_time": "2024-10-24T00:06:53.029025",
     "exception": false,
     "start_time": "2024-10-24T00:06:53.021086",
     "status": "completed"
    },
    "tags": []
   },
   "source": [
    "Model mimarisini oluşturalım."
   ]
  },
  {
   "cell_type": "code",
   "execution_count": 16,
   "id": "439d6c0b",
   "metadata": {
    "execution": {
     "iopub.execute_input": "2024-10-24T00:06:53.046404Z",
     "iopub.status.busy": "2024-10-24T00:06:53.046118Z",
     "iopub.status.idle": "2024-10-24T00:06:54.087532Z",
     "shell.execute_reply": "2024-10-24T00:06:54.086548Z"
    },
    "papermill": {
     "duration": 1.052689,
     "end_time": "2024-10-24T00:06:54.089780",
     "exception": false,
     "start_time": "2024-10-24T00:06:53.037091",
     "status": "completed"
    },
    "tags": []
   },
   "outputs": [],
   "source": [
    "model = Sequential([\n",
    "    layers.Input(shape=(224,224,3)),\n",
    "    layers.Flatten(),\n",
    "    layers.Dense(64, activation=\"relu\", kernel_regularizer=l2(0.001)),\n",
    "    BatchNormalization(),\n",
    "    Dropout(0.2),\n",
    "    layers.Dense(128, activation=\"relu\", kernel_regularizer=l2(0.001)),\n",
    "    BatchNormalization(),\n",
    "    Dropout(0.2),\n",
    "    layers.Dense(128, activation=\"relu\", kernel_regularizer=l2(0.001)),\n",
    "    BatchNormalization(),\n",
    "    Dropout(0.2),\n",
    "    layers.Dense(128, activation=\"relu\", kernel_regularizer=l2(0.001)),\n",
    "    BatchNormalization(),\n",
    "    Dropout(0.2),\n",
    "    layers.Dense(256, activation=\"relu\", kernel_regularizer=l2(0.001)),\n",
    "    BatchNormalization(),\n",
    "    Dropout(0.2),\n",
    "    layers.Dense(256, activation=\"relu\", kernel_regularizer=l2(0.001)),\n",
    "    BatchNormalization(),\n",
    "    Dropout(0.2),\n",
    "    layers.Dense(512, activation=\"relu\", kernel_regularizer=l2(0.001)),\n",
    "    layers.Dense(9, activation=\"softmax\")]\n",
    ")\n",
    "\n",
    "model.compile(optimizer=Adam(learning_rate=0.0001),\n",
    "              loss='categorical_crossentropy',\n",
    "              metrics=[\"accuracy\", \"AUC\"])"
   ]
  },
  {
   "cell_type": "code",
   "execution_count": 17,
   "id": "2e686ccc",
   "metadata": {
    "execution": {
     "iopub.execute_input": "2024-10-24T00:06:54.109533Z",
     "iopub.status.busy": "2024-10-24T00:06:54.108763Z",
     "iopub.status.idle": "2024-10-24T00:06:54.114230Z",
     "shell.execute_reply": "2024-10-24T00:06:54.113302Z"
    },
    "papermill": {
     "duration": 0.01739,
     "end_time": "2024-10-24T00:06:54.116225",
     "exception": false,
     "start_time": "2024-10-24T00:06:54.098835",
     "status": "completed"
    },
    "tags": []
   },
   "outputs": [],
   "source": [
    "early_stopping = EarlyStopping(monitor='val_loss',\n",
    "                               patience=15,\n",
    "                               verbose=1,\n",
    "                               restore_best_weights=True, \n",
    "                               mode=\"min\")\n",
    "\n",
    "model_checkpoint = ModelCheckpoint(filepath='fish_model2.keras',\n",
    "                             monitor='val_loss',\n",
    "                             save_best_only=True,\n",
    "                             save_weights_only=False,\n",
    "                             verbose=1)"
   ]
  },
  {
   "cell_type": "code",
   "execution_count": 18,
   "id": "6510669a",
   "metadata": {
    "execution": {
     "iopub.execute_input": "2024-10-24T00:06:54.134626Z",
     "iopub.status.busy": "2024-10-24T00:06:54.134323Z",
     "iopub.status.idle": "2024-10-24T01:13:54.774852Z",
     "shell.execute_reply": "2024-10-24T01:13:54.773887Z"
    },
    "papermill": {
     "duration": 4020.652,
     "end_time": "2024-10-24T01:13:54.776768",
     "exception": false,
     "start_time": "2024-10-24T00:06:54.124768",
     "status": "completed"
    },
    "tags": []
   },
   "outputs": [
    {
     "name": "stdout",
     "output_type": "stream",
     "text": [
      "Epoch 1/100\n"
     ]
    },
    {
     "name": "stderr",
     "output_type": "stream",
     "text": [
      "/opt/conda/lib/python3.10/site-packages/keras/src/trainers/data_adapters/py_dataset_adapter.py:121: UserWarning: Your `PyDataset` class should call `super().__init__(**kwargs)` in its constructor. `**kwargs` can include `workers`, `use_multiprocessing`, `max_queue_size`. Do not pass these arguments to `fit()`, as they will be ignored.\n",
      "  self._warn_if_super_not_called()\n",
      "WARNING: All log messages before absl::InitializeLog() is called are written to STDERR\n",
      "I0000 00:00:1729728431.867616      69 service.cc:145] XLA service 0x7ce890009410 initialized for platform CUDA (this does not guarantee that XLA will be used). Devices:\n",
      "I0000 00:00:1729728431.867696      69 service.cc:153]   StreamExecutor device (0): Tesla T4, Compute Capability 7.5\n",
      "I0000 00:00:1729728431.867702      69 service.cc:153]   StreamExecutor device (1): Tesla T4, Compute Capability 7.5\n"
     ]
    },
    {
     "name": "stdout",
     "output_type": "stream",
     "text": [
      "\u001b[1m 1/45\u001b[0m \u001b[37m━━━━━━━━━━━━━━━━━━━━\u001b[0m \u001b[1m20:13\u001b[0m 28s/step - AUC: 0.5100 - accuracy: 0.1328 - loss: 3.7727"
     ]
    },
    {
     "name": "stderr",
     "output_type": "stream",
     "text": [
      "I0000 00:00:1729728444.167516      69 device_compiler.h:188] Compiled cluster using XLA!  This line is logged at most once for the lifetime of the process.\n"
     ]
    },
    {
     "name": "stdout",
     "output_type": "stream",
     "text": [
      "\u001b[1m44/45\u001b[0m \u001b[32m━━━━━━━━━━━━━━━━━━━\u001b[0m\u001b[37m━\u001b[0m \u001b[1m1s\u001b[0m 1s/step - AUC: 0.5230 - accuracy: 0.1165 - loss: 3.7011\n",
      "Epoch 1: val_loss improved from inf to 3.61682, saving model to fish_model2.keras\n",
      "\u001b[1m45/45\u001b[0m \u001b[32m━━━━━━━━━━━━━━━━━━━━\u001b[0m\u001b[37m\u001b[0m \u001b[1m78s\u001b[0m 1s/step - AUC: 0.5234 - accuracy: 0.1168 - loss: 3.6983 - val_AUC: 0.4930 - val_accuracy: 0.1035 - val_loss: 3.6168\n",
      "Epoch 2/100\n",
      "\u001b[1m44/45\u001b[0m \u001b[32m━━━━━━━━━━━━━━━━━━━\u001b[0m\u001b[37m━\u001b[0m \u001b[1m1s\u001b[0m 1s/step - AUC: 0.5901 - accuracy: 0.1661 - loss: 3.4615\n",
      "Epoch 2: val_loss improved from 3.61682 to 3.50201, saving model to fish_model2.keras\n",
      "\u001b[1m45/45\u001b[0m \u001b[32m━━━━━━━━━━━━━━━━━━━━\u001b[0m\u001b[37m\u001b[0m \u001b[1m60s\u001b[0m 1s/step - AUC: 0.5909 - accuracy: 0.1664 - loss: 3.4600 - val_AUC: 0.5139 - val_accuracy: 0.1035 - val_loss: 3.5020\n",
      "Epoch 3/100\n",
      "\u001b[1m44/45\u001b[0m \u001b[32m━━━━━━━━━━━━━━━━━━━\u001b[0m\u001b[37m━\u001b[0m \u001b[1m1s\u001b[0m 1s/step - AUC: 0.6400 - accuracy: 0.2117 - loss: 3.3548\n",
      "Epoch 3: val_loss improved from 3.50201 to 3.44642, saving model to fish_model2.keras\n",
      "\u001b[1m45/45\u001b[0m \u001b[32m━━━━━━━━━━━━━━━━━━━━\u001b[0m\u001b[37m\u001b[0m \u001b[1m60s\u001b[0m 1s/step - AUC: 0.6403 - accuracy: 0.2117 - loss: 3.3544 - val_AUC: 0.5590 - val_accuracy: 0.1229 - val_loss: 3.4464\n",
      "Epoch 4/100\n",
      "\u001b[1m44/45\u001b[0m \u001b[32m━━━━━━━━━━━━━━━━━━━\u001b[0m\u001b[37m━\u001b[0m \u001b[1m1s\u001b[0m 1s/step - AUC: 0.6717 - accuracy: 0.1954 - loss: 3.2925\n",
      "Epoch 4: val_loss improved from 3.44642 to 3.34297, saving model to fish_model2.keras\n",
      "\u001b[1m45/45\u001b[0m \u001b[32m━━━━━━━━━━━━━━━━━━━━\u001b[0m\u001b[37m\u001b[0m \u001b[1m59s\u001b[0m 1s/step - AUC: 0.6720 - accuracy: 0.1961 - loss: 3.2917 - val_AUC: 0.6274 - val_accuracy: 0.1681 - val_loss: 3.3430\n",
      "Epoch 5/100\n",
      "\u001b[1m44/45\u001b[0m \u001b[32m━━━━━━━━━━━━━━━━━━━\u001b[0m\u001b[37m━\u001b[0m \u001b[1m1s\u001b[0m 1s/step - AUC: 0.6982 - accuracy: 0.2314 - loss: 3.2272\n",
      "Epoch 5: val_loss improved from 3.34297 to 3.18062, saving model to fish_model2.keras\n",
      "\u001b[1m45/45\u001b[0m \u001b[32m━━━━━━━━━━━━━━━━━━━━\u001b[0m\u001b[37m\u001b[0m \u001b[1m60s\u001b[0m 1s/step - AUC: 0.6985 - accuracy: 0.2321 - loss: 3.2263 - val_AUC: 0.7103 - val_accuracy: 0.2271 - val_loss: 3.1806\n",
      "Epoch 6/100\n",
      "\u001b[1m44/45\u001b[0m \u001b[32m━━━━━━━━━━━━━━━━━━━\u001b[0m\u001b[37m━\u001b[0m \u001b[1m1s\u001b[0m 1s/step - AUC: 0.7329 - accuracy: 0.2857 - loss: 3.1326\n",
      "Epoch 6: val_loss improved from 3.18062 to 2.98651, saving model to fish_model2.keras\n",
      "\u001b[1m45/45\u001b[0m \u001b[32m━━━━━━━━━━━━━━━━━━━━\u001b[0m\u001b[37m\u001b[0m \u001b[1m61s\u001b[0m 1s/step - AUC: 0.7330 - accuracy: 0.2856 - loss: 3.1322 - val_AUC: 0.7878 - val_accuracy: 0.3451 - val_loss: 2.9865\n",
      "Epoch 7/100\n",
      "\u001b[1m44/45\u001b[0m \u001b[32m━━━━━━━━━━━━━━━━━━━\u001b[0m\u001b[37m━\u001b[0m \u001b[1m1s\u001b[0m 1s/step - AUC: 0.7483 - accuracy: 0.2893 - loss: 3.0842\n",
      "Epoch 7: val_loss improved from 2.98651 to 2.93411, saving model to fish_model2.keras\n",
      "\u001b[1m45/45\u001b[0m \u001b[32m━━━━━━━━━━━━━━━━━━━━\u001b[0m\u001b[37m\u001b[0m \u001b[1m60s\u001b[0m 1s/step - AUC: 0.7485 - accuracy: 0.2894 - loss: 3.0838 - val_AUC: 0.7975 - val_accuracy: 0.3319 - val_loss: 2.9341\n",
      "Epoch 8/100\n",
      "\u001b[1m44/45\u001b[0m \u001b[32m━━━━━━━━━━━━━━━━━━━\u001b[0m\u001b[37m━\u001b[0m \u001b[1m1s\u001b[0m 1s/step - AUC: 0.7626 - accuracy: 0.3037 - loss: 3.0459\n",
      "Epoch 8: val_loss did not improve from 2.93411\n",
      "\u001b[1m45/45\u001b[0m \u001b[32m━━━━━━━━━━━━━━━━━━━━\u001b[0m\u001b[37m\u001b[0m \u001b[1m59s\u001b[0m 1s/step - AUC: 0.7628 - accuracy: 0.3039 - loss: 3.0450 - val_AUC: 0.7659 - val_accuracy: 0.2819 - val_loss: 3.0363\n",
      "Epoch 9/100\n",
      "\u001b[1m44/45\u001b[0m \u001b[32m━━━━━━━━━━━━━━━━━━━\u001b[0m\u001b[37m━\u001b[0m \u001b[1m1s\u001b[0m 1s/step - AUC: 0.7828 - accuracy: 0.3172 - loss: 2.9736\n",
      "Epoch 9: val_loss improved from 2.93411 to 2.85277, saving model to fish_model2.keras\n",
      "\u001b[1m45/45\u001b[0m \u001b[32m━━━━━━━━━━━━━━━━━━━━\u001b[0m\u001b[37m\u001b[0m \u001b[1m60s\u001b[0m 1s/step - AUC: 0.7828 - accuracy: 0.3169 - loss: 2.9739 - val_AUC: 0.8120 - val_accuracy: 0.3569 - val_loss: 2.8528\n",
      "Epoch 10/100\n",
      "\u001b[1m44/45\u001b[0m \u001b[32m━━━━━━━━━━━━━━━━━━━\u001b[0m\u001b[37m━\u001b[0m \u001b[1m1s\u001b[0m 1s/step - AUC: 0.7872 - accuracy: 0.3288 - loss: 2.9502\n",
      "Epoch 10: val_loss improved from 2.85277 to 2.76679, saving model to fish_model2.keras\n",
      "\u001b[1m45/45\u001b[0m \u001b[32m━━━━━━━━━━━━━━━━━━━━\u001b[0m\u001b[37m\u001b[0m \u001b[1m60s\u001b[0m 1s/step - AUC: 0.7873 - accuracy: 0.3289 - loss: 2.9499 - val_AUC: 0.8373 - val_accuracy: 0.3799 - val_loss: 2.7668\n",
      "Epoch 11/100\n",
      "\u001b[1m44/45\u001b[0m \u001b[32m━━━━━━━━━━━━━━━━━━━\u001b[0m\u001b[37m━\u001b[0m \u001b[1m1s\u001b[0m 1s/step - AUC: 0.7987 - accuracy: 0.3508 - loss: 2.9076\n",
      "Epoch 11: val_loss improved from 2.76679 to 2.70516, saving model to fish_model2.keras\n",
      "\u001b[1m45/45\u001b[0m \u001b[32m━━━━━━━━━━━━━━━━━━━━\u001b[0m\u001b[37m\u001b[0m \u001b[1m60s\u001b[0m 1s/step - AUC: 0.7987 - accuracy: 0.3505 - loss: 2.9079 - val_AUC: 0.8491 - val_accuracy: 0.4097 - val_loss: 2.7052\n",
      "Epoch 12/100\n",
      "\u001b[1m44/45\u001b[0m \u001b[32m━━━━━━━━━━━━━━━━━━━\u001b[0m\u001b[37m━\u001b[0m \u001b[1m1s\u001b[0m 1s/step - AUC: 0.8047 - accuracy: 0.3545 - loss: 2.8806\n",
      "Epoch 12: val_loss improved from 2.70516 to 2.65695, saving model to fish_model2.keras\n",
      "\u001b[1m45/45\u001b[0m \u001b[32m━━━━━━━━━━━━━━━━━━━━\u001b[0m\u001b[37m\u001b[0m \u001b[1m59s\u001b[0m 1s/step - AUC: 0.8047 - accuracy: 0.3543 - loss: 2.8807 - val_AUC: 0.8590 - val_accuracy: 0.4299 - val_loss: 2.6569\n",
      "Epoch 13/100\n",
      "\u001b[1m44/45\u001b[0m \u001b[32m━━━━━━━━━━━━━━━━━━━\u001b[0m\u001b[37m━\u001b[0m \u001b[1m1s\u001b[0m 1s/step - AUC: 0.8038 - accuracy: 0.3477 - loss: 2.8809\n",
      "Epoch 13: val_loss did not improve from 2.65695\n",
      "\u001b[1m45/45\u001b[0m \u001b[32m━━━━━━━━━━━━━━━━━━━━\u001b[0m\u001b[37m\u001b[0m \u001b[1m59s\u001b[0m 1s/step - AUC: 0.8040 - accuracy: 0.3480 - loss: 2.8802 - val_AUC: 0.8510 - val_accuracy: 0.4125 - val_loss: 2.6887\n",
      "Epoch 14/100\n",
      "\u001b[1m44/45\u001b[0m \u001b[32m━━━━━━━━━━━━━━━━━━━\u001b[0m\u001b[37m━\u001b[0m \u001b[1m1s\u001b[0m 1s/step - AUC: 0.8183 - accuracy: 0.3687 - loss: 2.8233\n",
      "Epoch 14: val_loss did not improve from 2.65695\n",
      "\u001b[1m45/45\u001b[0m \u001b[32m━━━━━━━━━━━━━━━━━━━━\u001b[0m\u001b[37m\u001b[0m \u001b[1m59s\u001b[0m 1s/step - AUC: 0.8181 - accuracy: 0.3682 - loss: 2.8242 - val_AUC: 0.8380 - val_accuracy: 0.4007 - val_loss: 2.7363\n",
      "Epoch 15/100\n",
      "\u001b[1m44/45\u001b[0m \u001b[32m━━━━━━━━━━━━━━━━━━━\u001b[0m\u001b[37m━\u001b[0m \u001b[1m1s\u001b[0m 1s/step - AUC: 0.8191 - accuracy: 0.3781 - loss: 2.8118\n",
      "Epoch 15: val_loss did not improve from 2.65695\n",
      "\u001b[1m45/45\u001b[0m \u001b[32m━━━━━━━━━━━━━━━━━━━━\u001b[0m\u001b[37m\u001b[0m \u001b[1m58s\u001b[0m 1s/step - AUC: 0.8191 - accuracy: 0.3779 - loss: 2.8118 - val_AUC: 0.8486 - val_accuracy: 0.3910 - val_loss: 2.6844\n",
      "Epoch 16/100\n",
      "\u001b[1m44/45\u001b[0m \u001b[32m━━━━━━━━━━━━━━━━━━━\u001b[0m\u001b[37m━\u001b[0m \u001b[1m1s\u001b[0m 1s/step - AUC: 0.8314 - accuracy: 0.3927 - loss: 2.7579\n",
      "Epoch 16: val_loss improved from 2.65695 to 2.56149, saving model to fish_model2.keras\n",
      "\u001b[1m45/45\u001b[0m \u001b[32m━━━━━━━━━━━━━━━━━━━━\u001b[0m\u001b[37m\u001b[0m \u001b[1m59s\u001b[0m 1s/step - AUC: 0.8314 - accuracy: 0.3925 - loss: 2.7580 - val_AUC: 0.8750 - val_accuracy: 0.4590 - val_loss: 2.5615\n",
      "Epoch 17/100\n",
      "\u001b[1m44/45\u001b[0m \u001b[32m━━━━━━━━━━━━━━━━━━━\u001b[0m\u001b[37m━\u001b[0m \u001b[1m1s\u001b[0m 1s/step - AUC: 0.8316 - accuracy: 0.3824 - loss: 2.7538\n",
      "Epoch 17: val_loss did not improve from 2.56149\n",
      "\u001b[1m45/45\u001b[0m \u001b[32m━━━━━━━━━━━━━━━━━━━━\u001b[0m\u001b[37m\u001b[0m \u001b[1m58s\u001b[0m 1s/step - AUC: 0.8316 - accuracy: 0.3826 - loss: 2.7536 - val_AUC: 0.8504 - val_accuracy: 0.4167 - val_loss: 2.6766\n",
      "Epoch 18/100\n",
      "\u001b[1m44/45\u001b[0m \u001b[32m━━━━━━━━━━━━━━━━━━━\u001b[0m\u001b[37m━\u001b[0m \u001b[1m1s\u001b[0m 1s/step - AUC: 0.8298 - accuracy: 0.4022 - loss: 2.7575\n",
      "Epoch 18: val_loss improved from 2.56149 to 2.51611, saving model to fish_model2.keras\n",
      "\u001b[1m45/45\u001b[0m \u001b[32m━━━━━━━━━━━━━━━━━━━━\u001b[0m\u001b[37m\u001b[0m \u001b[1m59s\u001b[0m 1s/step - AUC: 0.8299 - accuracy: 0.4020 - loss: 2.7570 - val_AUC: 0.8807 - val_accuracy: 0.4563 - val_loss: 2.5161\n",
      "Epoch 19/100\n",
      "\u001b[1m44/45\u001b[0m \u001b[32m━━━━━━━━━━━━━━━━━━━\u001b[0m\u001b[37m━\u001b[0m \u001b[1m1s\u001b[0m 1s/step - AUC: 0.8353 - accuracy: 0.3987 - loss: 2.7299\n",
      "Epoch 19: val_loss did not improve from 2.51611\n",
      "\u001b[1m45/45\u001b[0m \u001b[32m━━━━━━━━━━━━━━━━━━━━\u001b[0m\u001b[37m\u001b[0m \u001b[1m59s\u001b[0m 1s/step - AUC: 0.8356 - accuracy: 0.3994 - loss: 2.7285 - val_AUC: 0.8775 - val_accuracy: 0.4576 - val_loss: 2.5258\n",
      "Epoch 20/100\n",
      "\u001b[1m44/45\u001b[0m \u001b[32m━━━━━━━━━━━━━━━━━━━\u001b[0m\u001b[37m━\u001b[0m \u001b[1m1s\u001b[0m 1s/step - AUC: 0.8459 - accuracy: 0.4076 - loss: 2.6777\n",
      "Epoch 20: val_loss improved from 2.51611 to 2.45414, saving model to fish_model2.keras\n",
      "\u001b[1m45/45\u001b[0m \u001b[32m━━━━━━━━━━━━━━━━━━━━\u001b[0m\u001b[37m\u001b[0m \u001b[1m59s\u001b[0m 1s/step - AUC: 0.8457 - accuracy: 0.4073 - loss: 2.6786 - val_AUC: 0.8907 - val_accuracy: 0.4882 - val_loss: 2.4541\n",
      "Epoch 21/100\n",
      "\u001b[1m44/45\u001b[0m \u001b[32m━━━━━━━━━━━━━━━━━━━\u001b[0m\u001b[37m━\u001b[0m \u001b[1m1s\u001b[0m 1s/step - AUC: 0.8462 - accuracy: 0.4131 - loss: 2.6719\n",
      "Epoch 21: val_loss did not improve from 2.45414\n",
      "\u001b[1m45/45\u001b[0m \u001b[32m━━━━━━━━━━━━━━━━━━━━\u001b[0m\u001b[37m\u001b[0m \u001b[1m59s\u001b[0m 1s/step - AUC: 0.8462 - accuracy: 0.4131 - loss: 2.6721 - val_AUC: 0.8827 - val_accuracy: 0.4722 - val_loss: 2.4879\n",
      "Epoch 22/100\n",
      "\u001b[1m44/45\u001b[0m \u001b[32m━━━━━━━━━━━━━━━━━━━\u001b[0m\u001b[37m━\u001b[0m \u001b[1m1s\u001b[0m 1s/step - AUC: 0.8496 - accuracy: 0.4237 - loss: 2.6491\n",
      "Epoch 22: val_loss did not improve from 2.45414\n",
      "\u001b[1m45/45\u001b[0m \u001b[32m━━━━━━━━━━━━━━━━━━━━\u001b[0m\u001b[37m\u001b[0m \u001b[1m59s\u001b[0m 1s/step - AUC: 0.8498 - accuracy: 0.4239 - loss: 2.6486 - val_AUC: 0.8755 - val_accuracy: 0.4437 - val_loss: 2.5214\n",
      "Epoch 23/100\n",
      "\u001b[1m44/45\u001b[0m \u001b[32m━━━━━━━━━━━━━━━━━━━\u001b[0m\u001b[37m━\u001b[0m \u001b[1m1s\u001b[0m 1s/step - AUC: 0.8511 - accuracy: 0.4331 - loss: 2.6386\n",
      "Epoch 23: val_loss improved from 2.45414 to 2.39887, saving model to fish_model2.keras\n",
      "\u001b[1m45/45\u001b[0m \u001b[32m━━━━━━━━━━━━━━━━━━━━\u001b[0m\u001b[37m\u001b[0m \u001b[1m59s\u001b[0m 1s/step - AUC: 0.8510 - accuracy: 0.4327 - loss: 2.6391 - val_AUC: 0.8982 - val_accuracy: 0.5118 - val_loss: 2.3989\n",
      "Epoch 24/100\n",
      "\u001b[1m44/45\u001b[0m \u001b[32m━━━━━━━━━━━━━━━━━━━\u001b[0m\u001b[37m━\u001b[0m \u001b[1m1s\u001b[0m 1s/step - AUC: 0.8600 - accuracy: 0.4415 - loss: 2.5936\n",
      "Epoch 24: val_loss improved from 2.39887 to 2.33652, saving model to fish_model2.keras\n",
      "\u001b[1m45/45\u001b[0m \u001b[32m━━━━━━━━━━━━━━━━━━━━\u001b[0m\u001b[37m\u001b[0m \u001b[1m59s\u001b[0m 1s/step - AUC: 0.8598 - accuracy: 0.4416 - loss: 2.5940 - val_AUC: 0.9096 - val_accuracy: 0.5375 - val_loss: 2.3365\n",
      "Epoch 25/100\n",
      "\u001b[1m44/45\u001b[0m \u001b[32m━━━━━━━━━━━━━━━━━━━\u001b[0m\u001b[37m━\u001b[0m \u001b[1m1s\u001b[0m 1s/step - AUC: 0.8610 - accuracy: 0.4429 - loss: 2.5809\n",
      "Epoch 25: val_loss did not improve from 2.33652\n",
      "\u001b[1m45/45\u001b[0m \u001b[32m━━━━━━━━━━━━━━━━━━━━\u001b[0m\u001b[37m\u001b[0m \u001b[1m59s\u001b[0m 1s/step - AUC: 0.8609 - accuracy: 0.4426 - loss: 2.5814 - val_AUC: 0.9006 - val_accuracy: 0.5021 - val_loss: 2.3732\n",
      "Epoch 26/100\n",
      "\u001b[1m44/45\u001b[0m \u001b[32m━━━━━━━━━━━━━━━━━━━\u001b[0m\u001b[37m━\u001b[0m \u001b[1m1s\u001b[0m 1s/step - AUC: 0.8617 - accuracy: 0.4397 - loss: 2.5736\n",
      "Epoch 26: val_loss did not improve from 2.33652\n",
      "\u001b[1m45/45\u001b[0m \u001b[32m━━━━━━━━━━━━━━━━━━━━\u001b[0m\u001b[37m\u001b[0m \u001b[1m59s\u001b[0m 1s/step - AUC: 0.8616 - accuracy: 0.4400 - loss: 2.5738 - val_AUC: 0.9041 - val_accuracy: 0.5111 - val_loss: 2.3505\n",
      "Epoch 27/100\n",
      "\u001b[1m44/45\u001b[0m \u001b[32m━━━━━━━━━━━━━━━━━━━\u001b[0m\u001b[37m━\u001b[0m \u001b[1m1s\u001b[0m 1s/step - AUC: 0.8621 - accuracy: 0.4391 - loss: 2.5696\n",
      "Epoch 27: val_loss did not improve from 2.33652\n",
      "\u001b[1m45/45\u001b[0m \u001b[32m━━━━━━━━━━━━━━━━━━━━\u001b[0m\u001b[37m\u001b[0m \u001b[1m59s\u001b[0m 1s/step - AUC: 0.8621 - accuracy: 0.4392 - loss: 2.5695 - val_AUC: 0.9005 - val_accuracy: 0.5083 - val_loss: 2.3633\n",
      "Epoch 28/100\n",
      "\u001b[1m44/45\u001b[0m \u001b[32m━━━━━━━━━━━━━━━━━━━\u001b[0m\u001b[37m━\u001b[0m \u001b[1m1s\u001b[0m 1s/step - AUC: 0.8655 - accuracy: 0.4474 - loss: 2.5456\n",
      "Epoch 28: val_loss did not improve from 2.33652\n",
      "\u001b[1m45/45\u001b[0m \u001b[32m━━━━━━━━━━━━━━━━━━━━\u001b[0m\u001b[37m\u001b[0m \u001b[1m59s\u001b[0m 1s/step - AUC: 0.8654 - accuracy: 0.4474 - loss: 2.5457 - val_AUC: 0.9039 - val_accuracy: 0.5146 - val_loss: 2.3379\n",
      "Epoch 29/100\n",
      "\u001b[1m44/45\u001b[0m \u001b[32m━━━━━━━━━━━━━━━━━━━\u001b[0m\u001b[37m━\u001b[0m \u001b[1m1s\u001b[0m 1s/step - AUC: 0.8629 - accuracy: 0.4454 - loss: 2.5557\n",
      "Epoch 29: val_loss did not improve from 2.33652\n",
      "\u001b[1m45/45\u001b[0m \u001b[32m━━━━━━━━━━━━━━━━━━━━\u001b[0m\u001b[37m\u001b[0m \u001b[1m59s\u001b[0m 1s/step - AUC: 0.8630 - accuracy: 0.4458 - loss: 2.5550 - val_AUC: 0.8948 - val_accuracy: 0.4854 - val_loss: 2.3814\n",
      "Epoch 30/100\n",
      "\u001b[1m44/45\u001b[0m \u001b[32m━━━━━━━━━━━━━━━━━━━\u001b[0m\u001b[37m━\u001b[0m \u001b[1m1s\u001b[0m 1s/step - AUC: 0.8575 - accuracy: 0.4407 - loss: 2.5760\n",
      "Epoch 30: val_loss improved from 2.33652 to 2.33345, saving model to fish_model2.keras\n",
      "\u001b[1m45/45\u001b[0m \u001b[32m━━━━━━━━━━━━━━━━━━━━\u001b[0m\u001b[37m\u001b[0m \u001b[1m57s\u001b[0m 1s/step - AUC: 0.8579 - accuracy: 0.4413 - loss: 2.5741 - val_AUC: 0.9024 - val_accuracy: 0.5243 - val_loss: 2.3334\n",
      "Epoch 31/100\n",
      "\u001b[1m44/45\u001b[0m \u001b[32m━━━━━━━━━━━━━━━━━━━\u001b[0m\u001b[37m━\u001b[0m \u001b[1m1s\u001b[0m 1s/step - AUC: 0.8758 - accuracy: 0.4711 - loss: 2.4774\n",
      "Epoch 31: val_loss improved from 2.33345 to 2.27182, saving model to fish_model2.keras\n",
      "\u001b[1m45/45\u001b[0m \u001b[32m━━━━━━━━━━━━━━━━━━━━\u001b[0m\u001b[37m\u001b[0m \u001b[1m59s\u001b[0m 1s/step - AUC: 0.8755 - accuracy: 0.4708 - loss: 2.4788 - val_AUC: 0.9127 - val_accuracy: 0.5410 - val_loss: 2.2718\n",
      "Epoch 32/100\n",
      "\u001b[1m44/45\u001b[0m \u001b[32m━━━━━━━━━━━━━━━━━━━\u001b[0m\u001b[37m━\u001b[0m \u001b[1m1s\u001b[0m 1s/step - AUC: 0.8683 - accuracy: 0.4583 - loss: 2.5119\n",
      "Epoch 32: val_loss did not improve from 2.27182\n",
      "\u001b[1m45/45\u001b[0m \u001b[32m━━━━━━━━━━━━━━━━━━━━\u001b[0m\u001b[37m\u001b[0m \u001b[1m59s\u001b[0m 1s/step - AUC: 0.8684 - accuracy: 0.4584 - loss: 2.5114 - val_AUC: 0.8992 - val_accuracy: 0.5125 - val_loss: 2.3417\n",
      "Epoch 33/100\n",
      "\u001b[1m44/45\u001b[0m \u001b[32m━━━━━━━━━━━━━━━━━━━\u001b[0m\u001b[37m━\u001b[0m \u001b[1m1s\u001b[0m 1s/step - AUC: 0.8710 - accuracy: 0.4613 - loss: 2.4946\n",
      "Epoch 33: val_loss did not improve from 2.27182\n",
      "\u001b[1m45/45\u001b[0m \u001b[32m━━━━━━━━━━━━━━━━━━━━\u001b[0m\u001b[37m\u001b[0m \u001b[1m58s\u001b[0m 1s/step - AUC: 0.8710 - accuracy: 0.4614 - loss: 2.4944 - val_AUC: 0.9075 - val_accuracy: 0.5167 - val_loss: 2.2954\n",
      "Epoch 34/100\n",
      "\u001b[1m44/45\u001b[0m \u001b[32m━━━━━━━━━━━━━━━━━━━\u001b[0m\u001b[37m━\u001b[0m \u001b[1m1s\u001b[0m 1s/step - AUC: 0.8760 - accuracy: 0.4844 - loss: 2.4653\n",
      "Epoch 34: val_loss did not improve from 2.27182\n",
      "\u001b[1m45/45\u001b[0m \u001b[32m━━━━━━━━━━━━━━━━━━━━\u001b[0m\u001b[37m\u001b[0m \u001b[1m59s\u001b[0m 1s/step - AUC: 0.8759 - accuracy: 0.4840 - loss: 2.4655 - val_AUC: 0.9050 - val_accuracy: 0.5326 - val_loss: 2.3008\n",
      "Epoch 35/100\n",
      "\u001b[1m44/45\u001b[0m \u001b[32m━━━━━━━━━━━━━━━━━━━\u001b[0m\u001b[37m━\u001b[0m \u001b[1m1s\u001b[0m 1s/step - AUC: 0.8776 - accuracy: 0.4725 - loss: 2.4499\n",
      "Epoch 35: val_loss improved from 2.27182 to 2.19412, saving model to fish_model2.keras\n",
      "\u001b[1m45/45\u001b[0m \u001b[32m━━━━━━━━━━━━━━━━━━━━\u001b[0m\u001b[37m\u001b[0m \u001b[1m59s\u001b[0m 1s/step - AUC: 0.8775 - accuracy: 0.4724 - loss: 2.4502 - val_AUC: 0.9236 - val_accuracy: 0.5771 - val_loss: 2.1941\n",
      "Epoch 36/100\n",
      "\u001b[1m44/45\u001b[0m \u001b[32m━━━━━━━━━━━━━━━━━━━\u001b[0m\u001b[37m━\u001b[0m \u001b[1m1s\u001b[0m 1s/step - AUC: 0.8764 - accuracy: 0.4766 - loss: 2.4499\n",
      "Epoch 36: val_loss improved from 2.19412 to 2.16674, saving model to fish_model2.keras\n",
      "\u001b[1m45/45\u001b[0m \u001b[32m━━━━━━━━━━━━━━━━━━━━\u001b[0m\u001b[37m\u001b[0m \u001b[1m59s\u001b[0m 1s/step - AUC: 0.8765 - accuracy: 0.4767 - loss: 2.4494 - val_AUC: 0.9254 - val_accuracy: 0.5875 - val_loss: 2.1667\n",
      "Epoch 37/100\n",
      "\u001b[1m44/45\u001b[0m \u001b[32m━━━━━━━━━━━━━━━━━━━\u001b[0m\u001b[37m━\u001b[0m \u001b[1m1s\u001b[0m 1s/step - AUC: 0.8826 - accuracy: 0.4736 - loss: 2.4137\n",
      "Epoch 37: val_loss did not improve from 2.16674\n",
      "\u001b[1m45/45\u001b[0m \u001b[32m━━━━━━━━━━━━━━━━━━━━\u001b[0m\u001b[37m\u001b[0m \u001b[1m58s\u001b[0m 1s/step - AUC: 0.8825 - accuracy: 0.4738 - loss: 2.4140 - val_AUC: 0.9194 - val_accuracy: 0.5646 - val_loss: 2.1994\n",
      "Epoch 38/100\n",
      "\u001b[1m44/45\u001b[0m \u001b[32m━━━━━━━━━━━━━━━━━━━\u001b[0m\u001b[37m━\u001b[0m \u001b[1m1s\u001b[0m 1s/step - AUC: 0.8822 - accuracy: 0.4796 - loss: 2.4090\n",
      "Epoch 38: val_loss did not improve from 2.16674\n",
      "\u001b[1m45/45\u001b[0m \u001b[32m━━━━━━━━━━━━━━━━━━━━\u001b[0m\u001b[37m\u001b[0m \u001b[1m59s\u001b[0m 1s/step - AUC: 0.8823 - accuracy: 0.4801 - loss: 2.4085 - val_AUC: 0.9064 - val_accuracy: 0.5368 - val_loss: 2.2656\n",
      "Epoch 39/100\n",
      "\u001b[1m44/45\u001b[0m \u001b[32m━━━━━━━━━━━━━━━━━━━\u001b[0m\u001b[37m━\u001b[0m \u001b[1m1s\u001b[0m 1s/step - AUC: 0.8882 - accuracy: 0.5082 - loss: 2.3721\n",
      "Epoch 39: val_loss did not improve from 2.16674\n",
      "\u001b[1m45/45\u001b[0m \u001b[32m━━━━━━━━━━━━━━━━━━━━\u001b[0m\u001b[37m\u001b[0m \u001b[1m59s\u001b[0m 1s/step - AUC: 0.8881 - accuracy: 0.5078 - loss: 2.3724 - val_AUC: 0.9048 - val_accuracy: 0.5208 - val_loss: 2.2769\n",
      "Epoch 40/100\n",
      "\u001b[1m44/45\u001b[0m \u001b[32m━━━━━━━━━━━━━━━━━━━\u001b[0m\u001b[37m━\u001b[0m \u001b[1m1s\u001b[0m 1s/step - AUC: 0.8887 - accuracy: 0.5029 - loss: 2.3644\n",
      "Epoch 40: val_loss did not improve from 2.16674\n",
      "\u001b[1m45/45\u001b[0m \u001b[32m━━━━━━━━━━━━━━━━━━━━\u001b[0m\u001b[37m\u001b[0m \u001b[1m59s\u001b[0m 1s/step - AUC: 0.8887 - accuracy: 0.5030 - loss: 2.3639 - val_AUC: 0.8936 - val_accuracy: 0.4778 - val_loss: 2.3406\n",
      "Epoch 41/100\n",
      "\u001b[1m44/45\u001b[0m \u001b[32m━━━━━━━━━━━━━━━━━━━\u001b[0m\u001b[37m━\u001b[0m \u001b[1m1s\u001b[0m 1s/step - AUC: 0.8828 - accuracy: 0.4851 - loss: 2.3923\n",
      "Epoch 41: val_loss improved from 2.16674 to 2.09385, saving model to fish_model2.keras\n",
      "\u001b[1m45/45\u001b[0m \u001b[32m━━━━━━━━━━━━━━━━━━━━\u001b[0m\u001b[37m\u001b[0m \u001b[1m59s\u001b[0m 1s/step - AUC: 0.8830 - accuracy: 0.4856 - loss: 2.3913 - val_AUC: 0.9350 - val_accuracy: 0.6042 - val_loss: 2.0938\n",
      "Epoch 42/100\n",
      "\u001b[1m44/45\u001b[0m \u001b[32m━━━━━━━━━━━━━━━━━━━\u001b[0m\u001b[37m━\u001b[0m \u001b[1m1s\u001b[0m 1s/step - AUC: 0.8886 - accuracy: 0.5194 - loss: 2.3529\n",
      "Epoch 42: val_loss did not improve from 2.09385\n",
      "\u001b[1m45/45\u001b[0m \u001b[32m━━━━━━━━━━━━━━━━━━━━\u001b[0m\u001b[37m\u001b[0m \u001b[1m59s\u001b[0m 1s/step - AUC: 0.8887 - accuracy: 0.5192 - loss: 2.3524 - val_AUC: 0.9298 - val_accuracy: 0.5917 - val_loss: 2.1008\n",
      "Epoch 43/100\n",
      "\u001b[1m44/45\u001b[0m \u001b[32m━━━━━━━━━━━━━━━━━━━\u001b[0m\u001b[37m━\u001b[0m \u001b[1m1s\u001b[0m 1s/step - AUC: 0.8876 - accuracy: 0.4952 - loss: 2.3564\n",
      "Epoch 43: val_loss did not improve from 2.09385\n",
      "\u001b[1m45/45\u001b[0m \u001b[32m━━━━━━━━━━━━━━━━━━━━\u001b[0m\u001b[37m\u001b[0m \u001b[1m57s\u001b[0m 1s/step - AUC: 0.8877 - accuracy: 0.4956 - loss: 2.3555 - val_AUC: 0.9281 - val_accuracy: 0.5660 - val_loss: 2.1074\n",
      "Epoch 44/100\n",
      "\u001b[1m44/45\u001b[0m \u001b[32m━━━━━━━━━━━━━━━━━━━\u001b[0m\u001b[37m━\u001b[0m \u001b[1m1s\u001b[0m 1s/step - AUC: 0.8942 - accuracy: 0.5075 - loss: 2.3132\n",
      "Epoch 44: val_loss improved from 2.09385 to 2.01381, saving model to fish_model2.keras\n",
      "\u001b[1m45/45\u001b[0m \u001b[32m━━━━━━━━━━━━━━━━━━━━\u001b[0m\u001b[37m\u001b[0m \u001b[1m59s\u001b[0m 1s/step - AUC: 0.8942 - accuracy: 0.5077 - loss: 2.3130 - val_AUC: 0.9408 - val_accuracy: 0.6299 - val_loss: 2.0138\n",
      "Epoch 45/100\n",
      "\u001b[1m44/45\u001b[0m \u001b[32m━━━━━━━━━━━━━━━━━━━\u001b[0m\u001b[37m━\u001b[0m \u001b[1m1s\u001b[0m 1s/step - AUC: 0.8939 - accuracy: 0.5175 - loss: 2.3100\n",
      "Epoch 45: val_loss did not improve from 2.01381\n",
      "\u001b[1m45/45\u001b[0m \u001b[32m━━━━━━━━━━━━━━━━━━━━\u001b[0m\u001b[37m\u001b[0m \u001b[1m59s\u001b[0m 1s/step - AUC: 0.8940 - accuracy: 0.5177 - loss: 2.3094 - val_AUC: 0.9401 - val_accuracy: 0.6410 - val_loss: 2.0248\n",
      "Epoch 46/100\n",
      "\u001b[1m44/45\u001b[0m \u001b[32m━━━━━━━━━━━━━━━━━━━\u001b[0m\u001b[37m━\u001b[0m \u001b[1m1s\u001b[0m 1s/step - AUC: 0.8968 - accuracy: 0.5120 - loss: 2.2890\n",
      "Epoch 46: val_loss did not improve from 2.01381\n",
      "\u001b[1m45/45\u001b[0m \u001b[32m━━━━━━━━━━━━━━━━━━━━\u001b[0m\u001b[37m\u001b[0m \u001b[1m59s\u001b[0m 1s/step - AUC: 0.8969 - accuracy: 0.5124 - loss: 2.2885 - val_AUC: 0.9373 - val_accuracy: 0.6090 - val_loss: 2.0367\n",
      "Epoch 47/100\n",
      "\u001b[1m44/45\u001b[0m \u001b[32m━━━━━━━━━━━━━━━━━━━\u001b[0m\u001b[37m━\u001b[0m \u001b[1m1s\u001b[0m 1s/step - AUC: 0.8984 - accuracy: 0.5348 - loss: 2.2756\n",
      "Epoch 47: val_loss did not improve from 2.01381\n",
      "\u001b[1m45/45\u001b[0m \u001b[32m━━━━━━━━━━━━━━━━━━━━\u001b[0m\u001b[37m\u001b[0m \u001b[1m59s\u001b[0m 1s/step - AUC: 0.8984 - accuracy: 0.5346 - loss: 2.2754 - val_AUC: 0.9309 - val_accuracy: 0.5889 - val_loss: 2.0618\n",
      "Epoch 48/100\n",
      "\u001b[1m44/45\u001b[0m \u001b[32m━━━━━━━━━━━━━━━━━━━\u001b[0m\u001b[37m━\u001b[0m \u001b[1m1s\u001b[0m 1s/step - AUC: 0.9001 - accuracy: 0.5308 - loss: 2.2625\n",
      "Epoch 48: val_loss did not improve from 2.01381\n",
      "\u001b[1m45/45\u001b[0m \u001b[32m━━━━━━━━━━━━━━━━━━━━\u001b[0m\u001b[37m\u001b[0m \u001b[1m59s\u001b[0m 1s/step - AUC: 0.9001 - accuracy: 0.5305 - loss: 2.2629 - val_AUC: 0.9257 - val_accuracy: 0.5889 - val_loss: 2.0970\n",
      "Epoch 49/100\n",
      "\u001b[1m44/45\u001b[0m \u001b[32m━━━━━━━━━━━━━━━━━━━\u001b[0m\u001b[37m━\u001b[0m \u001b[1m1s\u001b[0m 1s/step - AUC: 0.8974 - accuracy: 0.5296 - loss: 2.2693\n",
      "Epoch 49: val_loss improved from 2.01381 to 1.99605, saving model to fish_model2.keras\n",
      "\u001b[1m45/45\u001b[0m \u001b[32m━━━━━━━━━━━━━━━━━━━━\u001b[0m\u001b[37m\u001b[0m \u001b[1m59s\u001b[0m 1s/step - AUC: 0.8975 - accuracy: 0.5295 - loss: 2.2686 - val_AUC: 0.9405 - val_accuracy: 0.6167 - val_loss: 1.9960\n",
      "Epoch 50/100\n",
      "\u001b[1m44/45\u001b[0m \u001b[32m━━━━━━━━━━━━━━━━━━━\u001b[0m\u001b[37m━\u001b[0m \u001b[1m1s\u001b[0m 1s/step - AUC: 0.9012 - accuracy: 0.5123 - loss: 2.2486\n",
      "Epoch 50: val_loss did not improve from 1.99605\n",
      "\u001b[1m45/45\u001b[0m \u001b[32m━━━━━━━━━━━━━━━━━━━━\u001b[0m\u001b[37m\u001b[0m \u001b[1m58s\u001b[0m 1s/step - AUC: 0.9013 - accuracy: 0.5129 - loss: 2.2480 - val_AUC: 0.9309 - val_accuracy: 0.6146 - val_loss: 2.0486\n",
      "Epoch 51/100\n",
      "\u001b[1m44/45\u001b[0m \u001b[32m━━━━━━━━━━━━━━━━━━━\u001b[0m\u001b[37m━\u001b[0m \u001b[1m1s\u001b[0m 1s/step - AUC: 0.9017 - accuracy: 0.5346 - loss: 2.2364\n",
      "Epoch 51: val_loss improved from 1.99605 to 1.99294, saving model to fish_model2.keras\n",
      "\u001b[1m45/45\u001b[0m \u001b[32m━━━━━━━━━━━━━━━━━━━━\u001b[0m\u001b[37m\u001b[0m \u001b[1m59s\u001b[0m 1s/step - AUC: 0.9017 - accuracy: 0.5343 - loss: 2.2367 - val_AUC: 0.9382 - val_accuracy: 0.6090 - val_loss: 1.9929\n",
      "Epoch 52/100\n",
      "\u001b[1m44/45\u001b[0m \u001b[32m━━━━━━━━━━━━━━━━━━━\u001b[0m\u001b[37m━\u001b[0m \u001b[1m1s\u001b[0m 1s/step - AUC: 0.9027 - accuracy: 0.5213 - loss: 2.2277\n",
      "Epoch 52: val_loss did not improve from 1.99294\n",
      "\u001b[1m45/45\u001b[0m \u001b[32m━━━━━━━━━━━━━━━━━━━━\u001b[0m\u001b[37m\u001b[0m \u001b[1m58s\u001b[0m 1s/step - AUC: 0.9028 - accuracy: 0.5217 - loss: 2.2271 - val_AUC: 0.9363 - val_accuracy: 0.6306 - val_loss: 2.0054\n",
      "Epoch 53/100\n",
      "\u001b[1m44/45\u001b[0m \u001b[32m━━━━━━━━━━━━━━━━━━━\u001b[0m\u001b[37m━\u001b[0m \u001b[1m1s\u001b[0m 1s/step - AUC: 0.9050 - accuracy: 0.5484 - loss: 2.2098\n",
      "Epoch 53: val_loss improved from 1.99294 to 1.91941, saving model to fish_model2.keras\n",
      "\u001b[1m45/45\u001b[0m \u001b[32m━━━━━━━━━━━━━━━━━━━━\u001b[0m\u001b[37m\u001b[0m \u001b[1m59s\u001b[0m 1s/step - AUC: 0.9051 - accuracy: 0.5484 - loss: 2.2094 - val_AUC: 0.9465 - val_accuracy: 0.6451 - val_loss: 1.9194\n",
      "Epoch 54/100\n",
      "\u001b[1m44/45\u001b[0m \u001b[32m━━━━━━━━━━━━━━━━━━━\u001b[0m\u001b[37m━\u001b[0m \u001b[1m1s\u001b[0m 1s/step - AUC: 0.9081 - accuracy: 0.5393 - loss: 2.1855\n",
      "Epoch 54: val_loss did not improve from 1.91941\n",
      "\u001b[1m45/45\u001b[0m \u001b[32m━━━━━━━━━━━━━━━━━━━━\u001b[0m\u001b[37m\u001b[0m \u001b[1m59s\u001b[0m 1s/step - AUC: 0.9079 - accuracy: 0.5391 - loss: 2.1863 - val_AUC: 0.9119 - val_accuracy: 0.5431 - val_loss: 2.1584\n",
      "Epoch 55/100\n",
      "\u001b[1m44/45\u001b[0m \u001b[32m━━━━━━━━━━━━━━━━━━━\u001b[0m\u001b[37m━\u001b[0m \u001b[1m1s\u001b[0m 1s/step - AUC: 0.9057 - accuracy: 0.5430 - loss: 2.1958\n",
      "Epoch 55: val_loss did not improve from 1.91941\n",
      "\u001b[1m45/45\u001b[0m \u001b[32m━━━━━━━━━━━━━━━━━━━━\u001b[0m\u001b[37m\u001b[0m \u001b[1m58s\u001b[0m 1s/step - AUC: 0.9058 - accuracy: 0.5431 - loss: 2.1951 - val_AUC: 0.9388 - val_accuracy: 0.6111 - val_loss: 1.9722\n",
      "Epoch 56/100\n",
      "\u001b[1m44/45\u001b[0m \u001b[32m━━━━━━━━━━━━━━━━━━━\u001b[0m\u001b[37m━\u001b[0m \u001b[1m1s\u001b[0m 1s/step - AUC: 0.9078 - accuracy: 0.5428 - loss: 2.1778\n",
      "Epoch 56: val_loss did not improve from 1.91941\n",
      "\u001b[1m45/45\u001b[0m \u001b[32m━━━━━━━━━━━━━━━━━━━━\u001b[0m\u001b[37m\u001b[0m \u001b[1m58s\u001b[0m 1s/step - AUC: 0.9078 - accuracy: 0.5431 - loss: 2.1776 - val_AUC: 0.8848 - val_accuracy: 0.4924 - val_loss: 2.3603\n",
      "Epoch 57/100\n",
      "\u001b[1m44/45\u001b[0m \u001b[32m━━━━━━━━━━━━━━━━━━━\u001b[0m\u001b[37m━\u001b[0m \u001b[1m1s\u001b[0m 1s/step - AUC: 0.9120 - accuracy: 0.5581 - loss: 2.1477\n",
      "Epoch 57: val_loss did not improve from 1.91941\n",
      "\u001b[1m45/45\u001b[0m \u001b[32m━━━━━━━━━━━━━━━━━━━━\u001b[0m\u001b[37m\u001b[0m \u001b[1m58s\u001b[0m 1s/step - AUC: 0.9119 - accuracy: 0.5582 - loss: 2.1479 - val_AUC: 0.9337 - val_accuracy: 0.6097 - val_loss: 2.0021\n",
      "Epoch 58/100\n",
      "\u001b[1m44/45\u001b[0m \u001b[32m━━━━━━━━━━━━━━━━━━━\u001b[0m\u001b[37m━\u001b[0m \u001b[1m1s\u001b[0m 1s/step - AUC: 0.9043 - accuracy: 0.5413 - loss: 2.1914\n",
      "Epoch 58: val_loss did not improve from 1.91941\n",
      "\u001b[1m45/45\u001b[0m \u001b[32m━━━━━━━━━━━━━━━━━━━━\u001b[0m\u001b[37m\u001b[0m \u001b[1m59s\u001b[0m 1s/step - AUC: 0.9044 - accuracy: 0.5416 - loss: 2.1905 - val_AUC: 0.8944 - val_accuracy: 0.5188 - val_loss: 2.2597\n",
      "Epoch 59/100\n",
      "\u001b[1m44/45\u001b[0m \u001b[32m━━━━━━━━━━━━━━━━━━━\u001b[0m\u001b[37m━\u001b[0m \u001b[1m1s\u001b[0m 1s/step - AUC: 0.9051 - accuracy: 0.5409 - loss: 2.1836\n",
      "Epoch 59: val_loss did not improve from 1.91941\n",
      "\u001b[1m45/45\u001b[0m \u001b[32m━━━━━━━━━━━━━━━━━━━━\u001b[0m\u001b[37m\u001b[0m \u001b[1m58s\u001b[0m 1s/step - AUC: 0.9051 - accuracy: 0.5408 - loss: 2.1833 - val_AUC: 0.9256 - val_accuracy: 0.5889 - val_loss: 2.0498\n",
      "Epoch 60/100\n",
      "\u001b[1m44/45\u001b[0m \u001b[32m━━━━━━━━━━━━━━━━━━━\u001b[0m\u001b[37m━\u001b[0m \u001b[1m1s\u001b[0m 1s/step - AUC: 0.9102 - accuracy: 0.5467 - loss: 2.1458\n",
      "Epoch 60: val_loss did not improve from 1.91941\n",
      "\u001b[1m45/45\u001b[0m \u001b[32m━━━━━━━━━━━━━━━━━━━━\u001b[0m\u001b[37m\u001b[0m \u001b[1m59s\u001b[0m 1s/step - AUC: 0.9102 - accuracy: 0.5466 - loss: 2.1456 - val_AUC: 0.9269 - val_accuracy: 0.5757 - val_loss: 2.0373\n",
      "Epoch 61/100\n",
      "\u001b[1m44/45\u001b[0m \u001b[32m━━━━━━━━━━━━━━━━━━━\u001b[0m\u001b[37m━\u001b[0m \u001b[1m1s\u001b[0m 1s/step - AUC: 0.9167 - accuracy: 0.5635 - loss: 2.1002\n",
      "Epoch 61: val_loss did not improve from 1.91941\n",
      "\u001b[1m45/45\u001b[0m \u001b[32m━━━━━━━━━━━━━━━━━━━━\u001b[0m\u001b[37m\u001b[0m \u001b[1m58s\u001b[0m 1s/step - AUC: 0.9166 - accuracy: 0.5635 - loss: 2.1009 - val_AUC: 0.9428 - val_accuracy: 0.6333 - val_loss: 1.9221\n",
      "Epoch 62/100\n",
      "\u001b[1m44/45\u001b[0m \u001b[32m━━━━━━━━━━━━━━━━━━━\u001b[0m\u001b[37m━\u001b[0m \u001b[1m1s\u001b[0m 1s/step - AUC: 0.9102 - accuracy: 0.5421 - loss: 2.1397\n",
      "Epoch 62: val_loss did not improve from 1.91941\n",
      "\u001b[1m45/45\u001b[0m \u001b[32m━━━━━━━━━━━━━━━━━━━━\u001b[0m\u001b[37m\u001b[0m \u001b[1m59s\u001b[0m 1s/step - AUC: 0.9102 - accuracy: 0.5425 - loss: 2.1395 - val_AUC: 0.9366 - val_accuracy: 0.6125 - val_loss: 1.9610\n",
      "Epoch 63/100\n",
      "\u001b[1m44/45\u001b[0m \u001b[32m━━━━━━━━━━━━━━━━━━━\u001b[0m\u001b[37m━\u001b[0m \u001b[1m1s\u001b[0m 1s/step - AUC: 0.9074 - accuracy: 0.5353 - loss: 2.1531\n",
      "Epoch 63: val_loss did not improve from 1.91941\n",
      "\u001b[1m45/45\u001b[0m \u001b[32m━━━━━━━━━━━━━━━━━━━━\u001b[0m\u001b[37m\u001b[0m \u001b[1m59s\u001b[0m 1s/step - AUC: 0.9075 - accuracy: 0.5359 - loss: 2.1524 - val_AUC: 0.9267 - val_accuracy: 0.5597 - val_loss: 2.0241\n",
      "Epoch 64/100\n",
      "\u001b[1m44/45\u001b[0m \u001b[32m━━━━━━━━━━━━━━━━━━━\u001b[0m\u001b[37m━\u001b[0m \u001b[1m1s\u001b[0m 1s/step - AUC: 0.9125 - accuracy: 0.5502 - loss: 2.1159\n",
      "Epoch 64: val_loss did not improve from 1.91941\n",
      "\u001b[1m45/45\u001b[0m \u001b[32m━━━━━━━━━━━━━━━━━━━━\u001b[0m\u001b[37m\u001b[0m \u001b[1m58s\u001b[0m 1s/step - AUC: 0.9125 - accuracy: 0.5506 - loss: 2.1158 - val_AUC: 0.9163 - val_accuracy: 0.5688 - val_loss: 2.0907\n",
      "Epoch 65/100\n",
      "\u001b[1m44/45\u001b[0m \u001b[32m━━━━━━━━━━━━━━━━━━━\u001b[0m\u001b[37m━\u001b[0m \u001b[1m1s\u001b[0m 1s/step - AUC: 0.9132 - accuracy: 0.5489 - loss: 2.1044\n",
      "Epoch 65: val_loss did not improve from 1.91941\n",
      "\u001b[1m45/45\u001b[0m \u001b[32m━━━━━━━━━━━━━━━━━━━━\u001b[0m\u001b[37m\u001b[0m \u001b[1m58s\u001b[0m 1s/step - AUC: 0.9132 - accuracy: 0.5490 - loss: 2.1042 - val_AUC: 0.9347 - val_accuracy: 0.6007 - val_loss: 1.9516\n",
      "Epoch 66/100\n",
      "\u001b[1m44/45\u001b[0m \u001b[32m━━━━━━━━━━━━━━━━━━━\u001b[0m\u001b[37m━\u001b[0m \u001b[1m1s\u001b[0m 1s/step - AUC: 0.9150 - accuracy: 0.5585 - loss: 2.0896\n",
      "Epoch 66: val_loss did not improve from 1.91941\n",
      "\u001b[1m45/45\u001b[0m \u001b[32m━━━━━━━━━━━━━━━━━━━━\u001b[0m\u001b[37m\u001b[0m \u001b[1m59s\u001b[0m 1s/step - AUC: 0.9149 - accuracy: 0.5583 - loss: 2.0900 - val_AUC: 0.8724 - val_accuracy: 0.4646 - val_loss: 2.3576\n",
      "Epoch 67/100\n",
      "\u001b[1m44/45\u001b[0m \u001b[32m━━━━━━━━━━━━━━━━━━━\u001b[0m\u001b[37m━\u001b[0m \u001b[1m1s\u001b[0m 1s/step - AUC: 0.9168 - accuracy: 0.5592 - loss: 2.0742\n",
      "Epoch 67: val_loss did not improve from 1.91941\n",
      "\u001b[1m45/45\u001b[0m \u001b[32m━━━━━━━━━━━━━━━━━━━━\u001b[0m\u001b[37m\u001b[0m \u001b[1m59s\u001b[0m 1s/step - AUC: 0.9167 - accuracy: 0.5591 - loss: 2.0744 - val_AUC: 0.9369 - val_accuracy: 0.6021 - val_loss: 1.9305\n",
      "Epoch 68/100\n",
      "\u001b[1m44/45\u001b[0m \u001b[32m━━━━━━━━━━━━━━━━━━━\u001b[0m\u001b[37m━\u001b[0m \u001b[1m1s\u001b[0m 1s/step - AUC: 0.9098 - accuracy: 0.5452 - loss: 2.1143\n",
      "Epoch 68: val_loss did not improve from 1.91941\n",
      "\u001b[1m45/45\u001b[0m \u001b[32m━━━━━━━━━━━━━━━━━━━━\u001b[0m\u001b[37m\u001b[0m \u001b[1m59s\u001b[0m 1s/step - AUC: 0.9100 - accuracy: 0.5458 - loss: 2.1132 - val_AUC: 0.9352 - val_accuracy: 0.6042 - val_loss: 1.9389\n",
      "Epoch 68: early stopping\n",
      "Restoring model weights from the end of the best epoch: 53.\n",
      "Trainin Time: 1:07:00.635172\n"
     ]
    }
   ],
   "source": [
    "start_time = datetime.datetime.now()\n",
    "\n",
    "history = model.fit(train_generator,\n",
    "         epochs = 100,\n",
    "         validation_data = (X_val, y_val),\n",
    "          #batch_size= 128, train generatorde kullandım.\n",
    "          callbacks =[early_stopping, model_checkpoint]\n",
    "         )\n",
    "\n",
    "end_time = datetime.datetime.now()\n",
    "total_duration = end_time - start_time\n",
    "print(\"Trainin Time:\", total_duration)"
   ]
  },
  {
   "cell_type": "code",
   "execution_count": 19,
   "id": "e4baae52",
   "metadata": {
    "execution": {
     "iopub.execute_input": "2024-10-24T01:13:55.269926Z",
     "iopub.status.busy": "2024-10-24T01:13:55.269109Z",
     "iopub.status.idle": "2024-10-24T01:13:55.962505Z",
     "shell.execute_reply": "2024-10-24T01:13:55.961605Z"
    },
    "papermill": {
     "duration": 0.943386,
     "end_time": "2024-10-24T01:13:55.965091",
     "exception": false,
     "start_time": "2024-10-24T01:13:55.021705",
     "status": "completed"
    },
    "tags": []
   },
   "outputs": [
    {
     "data": {
      "image/png": "[encoded data removed]",
      "text/plain": [
       "<Figure size 1200x500 with 2 Axes>"
      ]
     },
     "metadata": {},
     "output_type": "display_data"
    }
   ],
   "source": [
    "# Eğitim sonuçlarını görselleştirelim\n",
    "plt.figure(figsize=(12, 5))\n",
    "\n",
    "# Loss grafiği\n",
    "plt.subplot(1, 2, 1)\n",
    "plt.plot(history.history['loss'], label='Train Loss')\n",
    "plt.plot(history.history['val_loss'], label='Validation Loss')\n",
    "plt.title('Loss Grafiği')\n",
    "plt.xlabel('Epochs')\n",
    "plt.ylabel('Loss')\n",
    "plt.legend()\n",
    "\n",
    "# Accuracy grafiği\n",
    "plt.subplot(1, 2, 2)\n",
    "plt.plot(history.history['accuracy'], label='Train Accuracy')\n",
    "plt.plot(history.history['val_accuracy'], label='Validation Accuracy')\n",
    "plt.title('Accuracy Grafiği')\n",
    "plt.xlabel('Epochs')\n",
    "plt.ylabel('Accuracy')\n",
    "plt.legend()\n",
    "\n",
    "plt.tight_layout()\n",
    "plt.show()"
   ]
  },
  {
   "cell_type": "code",
   "execution_count": 20,
   "id": "1935aed2",
   "metadata": {
    "execution": {
     "iopub.execute_input": "2024-10-24T01:13:56.462587Z",
     "iopub.status.busy": "2024-10-24T01:13:56.461871Z",
     "iopub.status.idle": "2024-10-24T01:13:57.535671Z",
     "shell.execute_reply": "2024-10-24T01:13:57.534761Z"
    },
    "papermill": {
     "duration": 1.324948,
     "end_time": "2024-10-24T01:13:57.537680",
     "exception": false,
     "start_time": "2024-10-24T01:13:56.212732",
     "status": "completed"
    },
    "tags": []
   },
   "outputs": [
    {
     "name": "stdout",
     "output_type": "stream",
     "text": [
      "Loss: 1.9194093942642212\n",
      "Accuracy: 0.6451388597488403\n",
      "AUC: 0.9464741945266724\n"
     ]
    }
   ],
   "source": [
    "val_loss, val_accuracy, val_auc = model.evaluate(X_val, y_val, verbose=0)\n",
    "print(f\"Loss: {val_loss}\")\n",
    "print(f\"Accuracy: {val_accuracy}\")\n",
    "print(f\"AUC: {val_auc}\")"
   ]
  },
  {
   "cell_type": "code",
   "execution_count": 21,
   "id": "cb42d83d",
   "metadata": {
    "execution": {
     "iopub.execute_input": "2024-10-24T01:13:58.029765Z",
     "iopub.status.busy": "2024-10-24T01:13:58.028893Z",
     "iopub.status.idle": "2024-10-24T01:14:00.508846Z",
     "shell.execute_reply": "2024-10-24T01:14:00.507828Z"
    },
    "papermill": {
     "duration": 2.728793,
     "end_time": "2024-10-24T01:14:00.511085",
     "exception": false,
     "start_time": "2024-10-24T01:13:57.782292",
     "status": "completed"
    },
    "tags": []
   },
   "outputs": [
    {
     "name": "stdout",
     "output_type": "stream",
     "text": [
      "\u001b[1m57/57\u001b[0m \u001b[32m━━━━━━━━━━━━━━━━━━━━\u001b[0m\u001b[37m\u001b[0m \u001b[1m2s\u001b[0m 23ms/step\n"
     ]
    }
   ],
   "source": [
    "# Test seti üzerinde tahmin yapalım.\n",
    "y_pred = model.predict(X_test)\n",
    "\n",
    "# En yüksek olasılığı bulup sınıf indeksine çevirelim.\n",
    "y_pred_classes = y_pred.argmax(axis=-1)\n",
    "\n",
    "# Gerçek etiketler one-hot encode edilmiş halde, bu yüzden onları da sınıf indekslerine dönüştürelim.\n",
    "y_test = np.array(y_test) # test seti ile tahmin sunuçlarının veri tipi farklı olduğu için test setini de np array'e çevirelim.\n",
    "y_test_classes = y_test.argmax(axis=-1)"
   ]
  },
  {
   "cell_type": "code",
   "execution_count": 22,
   "id": "6fe88aca",
   "metadata": {
    "execution": {
     "iopub.execute_input": "2024-10-24T01:14:01.047173Z",
     "iopub.status.busy": "2024-10-24T01:14:01.046178Z",
     "iopub.status.idle": "2024-10-24T01:14:01.064914Z",
     "shell.execute_reply": "2024-10-24T01:14:01.063618Z"
    },
    "papermill": {
     "duration": 0.271301,
     "end_time": "2024-10-24T01:14:01.067516",
     "exception": false,
     "start_time": "2024-10-24T01:14:00.796215",
     "status": "completed"
    },
    "tags": []
   },
   "outputs": [
    {
     "name": "stdout",
     "output_type": "stream",
     "text": [
      "Weighted Precision: 0.6672018549927665\n",
      "Weighted Recall: 0.6544444444444445\n",
      "Weighted F1 Score: 0.6388743248902288\n"
     ]
    }
   ],
   "source": [
    "from sklearn.metrics import precision_score, recall_score, f1_score\n",
    "\n",
    "# Çok sınıflı sınıflandırma için precision, recall, F1 score hesaplama average=\"weighted\" ifadesi ile sınıf dağılımlarına göre ağırıklı ort. alır. \n",
    "precision = precision_score(y_test_classes, y_pred_classes, average='weighted')\n",
    "recall = recall_score(y_test_classes, y_pred_classes, average='weighted')\n",
    "f1 = f1_score(y_test_classes, y_pred_classes, average='weighted')\n",
    "\n",
    "print(f'Weighted Precision: {precision}')\n",
    "print(f'Weighted Recall: {recall}')\n",
    "print(f'Weighted F1 Score: {f1}')"
   ]
  }
 ],
 "metadata": {
  "kaggle": {
   "accelerator": "nvidiaTeslaT4",
   "dataSources": [
    {
     "datasetId": 1165452,
     "sourceId": 2170465,
     "sourceType": "datasetVersion"
    }
   ],
   "dockerImageVersionId": 30786,
   "isGpuEnabled": true,
   "isInternetEnabled": true,
   "language": "python",
   "sourceType": "notebook"
  },
  "kernelspec": {
   "display_name": "Python 3",
   "language": "python",
   "name": "python3"
  },
  "language_info": {
   "codemirror_mode": {
    "name": "ipython",
    "version": 3
   },
   "file_extension": ".py",
   "mimetype": "text/x-python",
   "name": "python",
   "nbconvert_exporter": "python",
   "pygments_lexer": "ipython3",
   "version": "3.10.14"
  },
  "papermill": {
   "default_parameters": {},
   "duration": 4239.004541,
   "end_time": "2024-10-24T01:14:04.353860",
   "environment_variables": {},
   "exception": null,
   "input_path": "__notebook__.ipynb",
   "output_path": "__notebook__.ipynb",
   "parameters": {},
   "start_time": "2024-10-24T00:03:25.349319",
   "version": "2.6.0"
  }
 },
 "nbformat": 4,
 "nbformat_minor": 5
}
